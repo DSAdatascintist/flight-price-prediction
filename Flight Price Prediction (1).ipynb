{
 "cells": [
  {
   "cell_type": "code",
   "execution_count": 1,
   "id": "7a11fdb0",
   "metadata": {},
   "outputs": [],
   "source": [
    "#import all libraries\n",
    "import pandas as pd\n",
    "import numpy as np\n",
    "import matplotlib.pyplot as plt\n",
    "import seaborn as sns\n",
    "import warnings\n",
    "warnings.filterwarnings('ignore')\n",
    "from sklearn.metrics import r2_score,mean_absolute_error,mean_squared_error\n",
    "from sklearn.linear_model import LogisticRegression,Lasso,LinearRegression\n",
    "from sklearn.neighbors import KNeighborsRegressor\n",
    "from sklearn.svm import SVR\n",
    "from sklearn.tree import DecisionTreeRegressor\n",
    "from sklearn.ensemble import AdaBoostRegressor,GradientBoostingRegressor\n",
    "from sklearn.preprocessing import LabelEncoder,StandardScaler\n",
    "from sklearn.model_selection import train_test_split,GridSearchCV\n",
    "from sklearn.decomposition import PCA\n",
    "from scipy.stats import zscore\n",
    "from sklearn.model_selection import cross_val_score"
   ]
  },
  {
   "cell_type": "code",
   "execution_count": 2,
   "id": "933415a0",
   "metadata": {},
   "outputs": [
    {
     "data": {
      "text/html": [
       "<div>\n",
       "<style scoped>\n",
       "    .dataframe tbody tr th:only-of-type {\n",
       "        vertical-align: middle;\n",
       "    }\n",
       "\n",
       "    .dataframe tbody tr th {\n",
       "        vertical-align: top;\n",
       "    }\n",
       "\n",
       "    .dataframe thead th {\n",
       "        text-align: right;\n",
       "    }\n",
       "</style>\n",
       "<table border=\"1\" class=\"dataframe\">\n",
       "  <thead>\n",
       "    <tr style=\"text-align: right;\">\n",
       "      <th></th>\n",
       "      <th>Airline</th>\n",
       "      <th>Date_of_Journey</th>\n",
       "      <th>Source</th>\n",
       "      <th>Destination</th>\n",
       "      <th>Route</th>\n",
       "      <th>Dep_Time</th>\n",
       "      <th>Arrival_Time</th>\n",
       "      <th>Duration</th>\n",
       "      <th>Total_Stops</th>\n",
       "      <th>Additional_Info</th>\n",
       "      <th>Price</th>\n",
       "    </tr>\n",
       "  </thead>\n",
       "  <tbody>\n",
       "    <tr>\n",
       "      <th>0</th>\n",
       "      <td>IndiGo</td>\n",
       "      <td>24/03/2019</td>\n",
       "      <td>Banglore</td>\n",
       "      <td>New Delhi</td>\n",
       "      <td>BLR → DEL</td>\n",
       "      <td>22:20</td>\n",
       "      <td>01:10 22 Mar</td>\n",
       "      <td>2h 50m</td>\n",
       "      <td>non-stop</td>\n",
       "      <td>No info</td>\n",
       "      <td>3897</td>\n",
       "    </tr>\n",
       "    <tr>\n",
       "      <th>1</th>\n",
       "      <td>Air India</td>\n",
       "      <td>1/05/2019</td>\n",
       "      <td>Kolkata</td>\n",
       "      <td>Banglore</td>\n",
       "      <td>CCU → IXR → BBI → BLR</td>\n",
       "      <td>05:50</td>\n",
       "      <td>13:15</td>\n",
       "      <td>7h 25m</td>\n",
       "      <td>2 stops</td>\n",
       "      <td>No info</td>\n",
       "      <td>7662</td>\n",
       "    </tr>\n",
       "    <tr>\n",
       "      <th>2</th>\n",
       "      <td>Jet Airways</td>\n",
       "      <td>9/06/2019</td>\n",
       "      <td>Delhi</td>\n",
       "      <td>Cochin</td>\n",
       "      <td>DEL → LKO → BOM → COK</td>\n",
       "      <td>09:25</td>\n",
       "      <td>04:25 10 Jun</td>\n",
       "      <td>19h</td>\n",
       "      <td>2 stops</td>\n",
       "      <td>No info</td>\n",
       "      <td>13882</td>\n",
       "    </tr>\n",
       "    <tr>\n",
       "      <th>3</th>\n",
       "      <td>IndiGo</td>\n",
       "      <td>12/05/2019</td>\n",
       "      <td>Kolkata</td>\n",
       "      <td>Banglore</td>\n",
       "      <td>CCU → NAG → BLR</td>\n",
       "      <td>18:05</td>\n",
       "      <td>23:30</td>\n",
       "      <td>5h 25m</td>\n",
       "      <td>1 stop</td>\n",
       "      <td>No info</td>\n",
       "      <td>6218</td>\n",
       "    </tr>\n",
       "    <tr>\n",
       "      <th>4</th>\n",
       "      <td>IndiGo</td>\n",
       "      <td>01/03/2019</td>\n",
       "      <td>Banglore</td>\n",
       "      <td>New Delhi</td>\n",
       "      <td>BLR → NAG → DEL</td>\n",
       "      <td>16:50</td>\n",
       "      <td>21:35</td>\n",
       "      <td>4h 45m</td>\n",
       "      <td>1 stop</td>\n",
       "      <td>No info</td>\n",
       "      <td>13302</td>\n",
       "    </tr>\n",
       "  </tbody>\n",
       "</table>\n",
       "</div>"
      ],
      "text/plain": [
       "       Airline Date_of_Journey    Source Destination                  Route  \\\n",
       "0       IndiGo      24/03/2019  Banglore   New Delhi              BLR → DEL   \n",
       "1    Air India       1/05/2019   Kolkata    Banglore  CCU → IXR → BBI → BLR   \n",
       "2  Jet Airways       9/06/2019     Delhi      Cochin  DEL → LKO → BOM → COK   \n",
       "3       IndiGo      12/05/2019   Kolkata    Banglore        CCU → NAG → BLR   \n",
       "4       IndiGo      01/03/2019  Banglore   New Delhi        BLR → NAG → DEL   \n",
       "\n",
       "  Dep_Time  Arrival_Time Duration Total_Stops Additional_Info  Price  \n",
       "0    22:20  01:10 22 Mar   2h 50m    non-stop         No info   3897  \n",
       "1    05:50         13:15   7h 25m     2 stops         No info   7662  \n",
       "2    09:25  04:25 10 Jun      19h     2 stops         No info  13882  \n",
       "3    18:05         23:30   5h 25m      1 stop         No info   6218  \n",
       "4    16:50         21:35   4h 45m      1 stop         No info  13302  "
      ]
     },
     "execution_count": 2,
     "metadata": {},
     "output_type": "execute_result"
    }
   ],
   "source": [
    "data=pd.read_excel(\"C:\\\\Users\\\\SAI BABA\\\\Desktop\\\\flight.xlsx\")\n",
    "data.head()"
   ]
  },
  {
   "cell_type": "code",
   "execution_count": 3,
   "id": "423aa196",
   "metadata": {},
   "outputs": [
    {
     "data": {
      "text/plain": [
       "(10683, 11)"
      ]
     },
     "execution_count": 3,
     "metadata": {},
     "output_type": "execute_result"
    }
   ],
   "source": [
    "data.shape"
   ]
  },
  {
   "cell_type": "code",
   "execution_count": 4,
   "id": "f144febc",
   "metadata": {},
   "outputs": [
    {
     "name": "stdout",
     "output_type": "stream",
     "text": [
      "<class 'pandas.core.frame.DataFrame'>\n",
      "RangeIndex: 10683 entries, 0 to 10682\n",
      "Data columns (total 11 columns):\n",
      " #   Column           Non-Null Count  Dtype \n",
      "---  ------           --------------  ----- \n",
      " 0   Airline          10683 non-null  object\n",
      " 1   Date_of_Journey  10683 non-null  object\n",
      " 2   Source           10683 non-null  object\n",
      " 3   Destination      10683 non-null  object\n",
      " 4   Route            10682 non-null  object\n",
      " 5   Dep_Time         10683 non-null  object\n",
      " 6   Arrival_Time     10683 non-null  object\n",
      " 7   Duration         10683 non-null  object\n",
      " 8   Total_Stops      10682 non-null  object\n",
      " 9   Additional_Info  10683 non-null  object\n",
      " 10  Price            10683 non-null  int64 \n",
      "dtypes: int64(1), object(10)\n",
      "memory usage: 918.2+ KB\n"
     ]
    }
   ],
   "source": [
    "data.info()"
   ]
  },
  {
   "cell_type": "code",
   "execution_count": 5,
   "id": "5e96ba2c",
   "metadata": {},
   "outputs": [
    {
     "data": {
      "text/plain": [
       "Airline            0\n",
       "Date_of_Journey    0\n",
       "Source             0\n",
       "Destination        0\n",
       "Route              1\n",
       "Dep_Time           0\n",
       "Arrival_Time       0\n",
       "Duration           0\n",
       "Total_Stops        1\n",
       "Additional_Info    0\n",
       "Price              0\n",
       "dtype: int64"
      ]
     },
     "execution_count": 5,
     "metadata": {},
     "output_type": "execute_result"
    }
   ],
   "source": [
    "data.isnull().sum()"
   ]
  },
  {
   "cell_type": "code",
   "execution_count": 6,
   "id": "e933b55a",
   "metadata": {},
   "outputs": [
    {
     "data": {
      "text/html": [
       "<div>\n",
       "<style scoped>\n",
       "    .dataframe tbody tr th:only-of-type {\n",
       "        vertical-align: middle;\n",
       "    }\n",
       "\n",
       "    .dataframe tbody tr th {\n",
       "        vertical-align: top;\n",
       "    }\n",
       "\n",
       "    .dataframe thead th {\n",
       "        text-align: right;\n",
       "    }\n",
       "</style>\n",
       "<table border=\"1\" class=\"dataframe\">\n",
       "  <thead>\n",
       "    <tr style=\"text-align: right;\">\n",
       "      <th></th>\n",
       "      <th>Price</th>\n",
       "    </tr>\n",
       "  </thead>\n",
       "  <tbody>\n",
       "    <tr>\n",
       "      <th>count</th>\n",
       "      <td>10683.000000</td>\n",
       "    </tr>\n",
       "    <tr>\n",
       "      <th>mean</th>\n",
       "      <td>9087.064121</td>\n",
       "    </tr>\n",
       "    <tr>\n",
       "      <th>std</th>\n",
       "      <td>4611.359167</td>\n",
       "    </tr>\n",
       "    <tr>\n",
       "      <th>min</th>\n",
       "      <td>1759.000000</td>\n",
       "    </tr>\n",
       "    <tr>\n",
       "      <th>25%</th>\n",
       "      <td>5277.000000</td>\n",
       "    </tr>\n",
       "    <tr>\n",
       "      <th>50%</th>\n",
       "      <td>8372.000000</td>\n",
       "    </tr>\n",
       "    <tr>\n",
       "      <th>75%</th>\n",
       "      <td>12373.000000</td>\n",
       "    </tr>\n",
       "    <tr>\n",
       "      <th>max</th>\n",
       "      <td>79512.000000</td>\n",
       "    </tr>\n",
       "  </tbody>\n",
       "</table>\n",
       "</div>"
      ],
      "text/plain": [
       "              Price\n",
       "count  10683.000000\n",
       "mean    9087.064121\n",
       "std     4611.359167\n",
       "min     1759.000000\n",
       "25%     5277.000000\n",
       "50%     8372.000000\n",
       "75%    12373.000000\n",
       "max    79512.000000"
      ]
     },
     "execution_count": 6,
     "metadata": {},
     "output_type": "execute_result"
    }
   ],
   "source": [
    "data.describe()"
   ]
  },
  {
   "cell_type": "code",
   "execution_count": 7,
   "id": "195cfde4",
   "metadata": {},
   "outputs": [
    {
     "data": {
      "text/plain": [
       "Airline            0\n",
       "Date_of_Journey    0\n",
       "Source             0\n",
       "Destination        0\n",
       "Route              1\n",
       "Dep_Time           0\n",
       "Arrival_Time       0\n",
       "Duration           0\n",
       "Total_Stops        1\n",
       "Additional_Info    0\n",
       "Price              0\n",
       "dtype: int64"
      ]
     },
     "execution_count": 7,
     "metadata": {},
     "output_type": "execute_result"
    }
   ],
   "source": [
    "data.isnull().sum()"
   ]
  },
  {
   "cell_type": "code",
   "execution_count": 8,
   "id": "14a08c64",
   "metadata": {},
   "outputs": [
    {
     "data": {
      "image/png": "[encoded data removed]",
      "text/plain": [
       "<Figure size 432x288 with 2 Axes>"
      ]
     },
     "metadata": {
      "needs_background": "light"
     },
     "output_type": "display_data"
    }
   ],
   "source": [
    "sns.heatmap(data.isnull())\n",
    "plt.title(\"Null values\")\n",
    "plt.show()"
   ]
  },
  {
   "cell_type": "markdown",
   "id": "043c28c5",
   "metadata": {},
   "source": [
    "# Making dataframe for categorical data"
   ]
  },
  {
   "cell_type": "code",
   "execution_count": 9,
   "id": "ea6bef34",
   "metadata": {},
   "outputs": [
    {
     "data": {
      "text/plain": [
       "Index(['Airline', 'Date_of_Journey', 'Source', 'Destination', 'Route',\n",
       "       'Dep_Time', 'Arrival_Time', 'Duration', 'Total_Stops',\n",
       "       'Additional_Info', 'Price'],\n",
       "      dtype='object')"
      ]
     },
     "execution_count": 9,
     "metadata": {},
     "output_type": "execute_result"
    }
   ],
   "source": [
    "data.columns"
   ]
  },
  {
   "cell_type": "code",
   "execution_count": 10,
   "id": "a66ff94c",
   "metadata": {},
   "outputs": [],
   "source": [
    "data_visualization_categorical=data[['Airline','Source','Destination','Additional_Info']].copy()"
   ]
  },
  {
   "cell_type": "code",
   "execution_count": 11,
   "id": "4f47472c",
   "metadata": {},
   "outputs": [
    {
     "data": {
      "text/plain": [
       "Index(['Airline', 'Source', 'Destination', 'Additional_Info'], dtype='object')"
      ]
     },
     "execution_count": 11,
     "metadata": {},
     "output_type": "execute_result"
    }
   ],
   "source": [
    "data_visualization_categorical.columns"
   ]
  },
  {
   "cell_type": "code",
   "execution_count": 12,
   "id": "063ce3d8",
   "metadata": {
    "scrolled": true
   },
   "outputs": [
    {
     "data": {
      "text/plain": [
       "4"
      ]
     },
     "execution_count": 12,
     "metadata": {},
     "output_type": "execute_result"
    }
   ],
   "source": [
    "len(data_visualization_categorical.columns)"
   ]
  },
  {
   "cell_type": "code",
   "execution_count": 13,
   "id": "f1b13a7d",
   "metadata": {
    "scrolled": true
   },
   "outputs": [
    {
     "data": {
      "text/plain": [
       "array(['IndiGo', 'Air India', 'Jet Airways', 'SpiceJet',\n",
       "       'Multiple carriers', 'GoAir', 'Vistara', 'Air Asia',\n",
       "       'Vistara Premium economy', 'Jet Airways Business',\n",
       "       'Multiple carriers Premium economy', 'Trujet'], dtype=object)"
      ]
     },
     "execution_count": 13,
     "metadata": {},
     "output_type": "execute_result"
    }
   ],
   "source": [
    "data['Airline'].unique()"
   ]
  },
  {
   "cell_type": "code",
   "execution_count": 14,
   "id": "fe38531a",
   "metadata": {},
   "outputs": [
    {
     "data": {
      "text/plain": [
       "array(['Banglore', 'Kolkata', 'Delhi', 'Chennai', 'Mumbai'], dtype=object)"
      ]
     },
     "execution_count": 14,
     "metadata": {},
     "output_type": "execute_result"
    }
   ],
   "source": [
    "data['Source'].unique()"
   ]
  },
  {
   "cell_type": "code",
   "execution_count": 15,
   "id": "4a1ee159",
   "metadata": {},
   "outputs": [
    {
     "data": {
      "text/plain": [
       "array(['New Delhi', 'Banglore', 'Cochin', 'Kolkata', 'Delhi', 'Hyderabad'],\n",
       "      dtype=object)"
      ]
     },
     "execution_count": 15,
     "metadata": {},
     "output_type": "execute_result"
    }
   ],
   "source": [
    "data['Destination'].unique()"
   ]
  },
  {
   "cell_type": "code",
   "execution_count": 16,
   "id": "808f2893",
   "metadata": {},
   "outputs": [
    {
     "data": {
      "text/plain": [
       "array(['No info', 'In-flight meal not included',\n",
       "       'No check-in baggage included', '1 Short layover', 'No Info',\n",
       "       '1 Long layover', 'Change airports', 'Business class',\n",
       "       'Red-eye flight', '2 Long layover'], dtype=object)"
      ]
     },
     "execution_count": 16,
     "metadata": {},
     "output_type": "execute_result"
    }
   ],
   "source": [
    "data['Additional_Info'].unique()"
   ]
  },
  {
   "cell_type": "markdown",
   "id": "b6613eb8",
   "metadata": {},
   "source": [
    "We now split the Date column to extract the ‘Date’, ‘Month’ and ‘Year’ values, and store them in new columns in our dataframe.\n"
   ]
  },
  {
   "cell_type": "code",
   "execution_count": 17,
   "id": "806f53ac",
   "metadata": {},
   "outputs": [],
   "source": [
    "data.Date_of_Journey=data.Date_of_Journey.str.split('/')"
   ]
  },
  {
   "cell_type": "code",
   "execution_count": 18,
   "id": "3b32660d",
   "metadata": {},
   "outputs": [
    {
     "data": {
      "text/plain": [
       "0        [24, 03, 2019]\n",
       "1         [1, 05, 2019]\n",
       "2         [9, 06, 2019]\n",
       "3        [12, 05, 2019]\n",
       "4        [01, 03, 2019]\n",
       "              ...      \n",
       "10678     [9, 04, 2019]\n",
       "10679    [27, 04, 2019]\n",
       "10680    [27, 04, 2019]\n",
       "10681    [01, 03, 2019]\n",
       "10682     [9, 05, 2019]\n",
       "Name: Date_of_Journey, Length: 10683, dtype: object"
      ]
     },
     "execution_count": 18,
     "metadata": {},
     "output_type": "execute_result"
    }
   ],
   "source": [
    "data.Date_of_Journey"
   ]
  },
  {
   "cell_type": "code",
   "execution_count": 19,
   "id": "1942d5e6",
   "metadata": {},
   "outputs": [],
   "source": [
    "data['Date']=data.Date_of_Journey.str[0]\n",
    "data['Month']=data.Date_of_Journey.str[1]\n",
    "data['Year']=data.Date_of_Journey.str[2]\n",
    "                                      \n"
   ]
  },
  {
   "cell_type": "markdown",
   "id": "45b28b8a",
   "metadata": {},
   "source": [
    "split the Route column to create multiple columns with cities that the flight travels through"
   ]
  },
  {
   "cell_type": "code",
   "execution_count": 20,
   "id": "32d0a594",
   "metadata": {},
   "outputs": [],
   "source": [
    "data.Route=data.Route.str.split('→')"
   ]
  },
  {
   "cell_type": "code",
   "execution_count": 21,
   "id": "0aef8d78",
   "metadata": {
    "scrolled": true
   },
   "outputs": [
    {
     "data": {
      "text/plain": [
       "0                      [BLR ,  DEL]\n",
       "1        [CCU ,  IXR ,  BBI ,  BLR]\n",
       "2        [DEL ,  LKO ,  BOM ,  COK]\n",
       "3               [CCU ,  NAG ,  BLR]\n",
       "4               [BLR ,  NAG ,  DEL]\n",
       "                    ...            \n",
       "10678                  [CCU ,  BLR]\n",
       "10679                  [CCU ,  BLR]\n",
       "10680                  [BLR ,  DEL]\n",
       "10681                  [BLR ,  DEL]\n",
       "10682    [DEL ,  GOI ,  BOM ,  COK]\n",
       "Name: Route, Length: 10683, dtype: object"
      ]
     },
     "execution_count": 21,
     "metadata": {},
     "output_type": "execute_result"
    }
   ],
   "source": [
    "data.Route"
   ]
  },
  {
   "cell_type": "code",
   "execution_count": 22,
   "id": "9317ad6a",
   "metadata": {},
   "outputs": [],
   "source": [
    "data['City1']=data.Route.str[0]\n",
    "data['City2']=data.Route.str[1]\n",
    "data['City3']=data.Route.str[2]\n",
    "data['City4']=data.Route.str[3]\n",
    "data['City5']=data.Route.str[4]\n",
    "data['City6']=data.Route.str[5]"
   ]
  },
  {
   "cell_type": "markdown",
   "id": "bcb8af28",
   "metadata": {},
   "source": [
    "we split the Dep_time column"
   ]
  },
  {
   "cell_type": "code",
   "execution_count": 23,
   "id": "59d774f5",
   "metadata": {},
   "outputs": [],
   "source": [
    "data.Dep_Time=data.Dep_Time.str.split(':')"
   ]
  },
  {
   "cell_type": "code",
   "execution_count": 24,
   "id": "242ca6c6",
   "metadata": {
    "scrolled": true
   },
   "outputs": [
    {
     "data": {
      "text/plain": [
       "0        [22, 20]\n",
       "1        [05, 50]\n",
       "2        [09, 25]\n",
       "3        [18, 05]\n",
       "4        [16, 50]\n",
       "           ...   \n",
       "10678    [19, 55]\n",
       "10679    [20, 45]\n",
       "10680    [08, 20]\n",
       "10681    [11, 30]\n",
       "10682    [10, 55]\n",
       "Name: Dep_Time, Length: 10683, dtype: object"
      ]
     },
     "execution_count": 24,
     "metadata": {},
     "output_type": "execute_result"
    }
   ],
   "source": [
    "data.Dep_Time"
   ]
  },
  {
   "cell_type": "code",
   "execution_count": 25,
   "id": "38a0d43e",
   "metadata": {},
   "outputs": [],
   "source": [
    "data['Dep_Time_Hour']=data.Dep_Time.str[0]\n",
    "data['Dep_Time_Min']=data.Dep_Time.str[1]"
   ]
  },
  {
   "cell_type": "code",
   "execution_count": 26,
   "id": "4897fbaf",
   "metadata": {},
   "outputs": [],
   "source": [
    "data.Arrival_Time=data.Arrival_Time.str.split(' ')"
   ]
  },
  {
   "cell_type": "code",
   "execution_count": 27,
   "id": "24be8959",
   "metadata": {},
   "outputs": [
    {
     "data": {
      "text/plain": [
       "0        [01:10, 22, Mar]\n",
       "1                 [13:15]\n",
       "2        [04:25, 10, Jun]\n",
       "3                 [23:30]\n",
       "4                 [21:35]\n",
       "               ...       \n",
       "10678             [22:25]\n",
       "10679             [23:20]\n",
       "10680             [11:20]\n",
       "10681             [14:10]\n",
       "10682             [19:15]\n",
       "Name: Arrival_Time, Length: 10683, dtype: object"
      ]
     },
     "execution_count": 27,
     "metadata": {},
     "output_type": "execute_result"
    }
   ],
   "source": [
    "data.Arrival_Time"
   ]
  },
  {
   "cell_type": "code",
   "execution_count": 28,
   "id": "1d9a4b96",
   "metadata": {},
   "outputs": [],
   "source": [
    "data['Arrival_date']=data.Arrival_Time.str[1]\n",
    "data['Time_of_arrival']=data.Arrival_Time.str[0]\n",
    "data['Time_of_arrival']=data.Time_of_arrival.str.split(':')\n",
    "data['Arrival_Time_Hour']=data.Time_of_arrival.str[0]\n",
    "data['Arrival_Time_Min']=data.Time_of_arrival.str[1]"
   ]
  },
  {
   "cell_type": "code",
   "execution_count": 29,
   "id": "e77c1913",
   "metadata": {},
   "outputs": [],
   "source": [
    "data['Arrival_Time_Hour']=data.Time_of_arrival.str[0]\n",
    "data['Arrival_Time_Min']=data.Time_of_arrival.str[1]"
   ]
  },
  {
   "cell_type": "markdown",
   "id": "38c84e01",
   "metadata": {},
   "source": [
    "Next, we divide the ‘Duration’ column to ‘Travel_hours’ and ‘ Travel_mins’\n"
   ]
  },
  {
   "cell_type": "code",
   "execution_count": 30,
   "id": "bed1270f",
   "metadata": {},
   "outputs": [],
   "source": [
    "data.Duration=data.Duration.str.split(' ')\n",
    "data['Travel_hours']=data.Duration.str[0]\n",
    "data['Travel_hours']=data['Travel_hours'].str.split('h')\n",
    "data['Travel_hours']=data['Travel_hours'].str[0]\n",
    "data.Travel_hours=data.Travel_hours"
   ]
  },
  {
   "cell_type": "code",
   "execution_count": 31,
   "id": "dc1d7854",
   "metadata": {},
   "outputs": [],
   "source": [
    "data['Travel_mins']=data.Duration.str[1]"
   ]
  },
  {
   "cell_type": "code",
   "execution_count": 32,
   "id": "74ed1bc9",
   "metadata": {},
   "outputs": [],
   "source": [
    "data.Travel_mins=data.Travel_mins.str.split('m')\n",
    "data.Travel_mins=data.Travel_mins.str[0]\n"
   ]
  },
  {
   "cell_type": "markdown",
   "id": "a1c358ed",
   "metadata": {},
   "source": [
    "We also treat the ‘Total_stops’ column"
   ]
  },
  {
   "cell_type": "code",
   "execution_count": 33,
   "id": "513ff074",
   "metadata": {},
   "outputs": [],
   "source": [
    "data.Total_Stops.replace('non-stop','0',inplace=True)\n",
    "data.Total_Stops=data.Total_Stops.str.split(' ')\n",
    "data.Total_Stops=data.Total_Stops.str[0]"
   ]
  },
  {
   "cell_type": "markdown",
   "id": "3f7680e6",
   "metadata": {},
   "source": [
    "We proceed further to the ‘Additional_info’ column, We replace ‘No Info’ by ‘No info’ to merge it into a single category "
   ]
  },
  {
   "cell_type": "code",
   "execution_count": 34,
   "id": "5c8eb221",
   "metadata": {},
   "outputs": [],
   "source": [
    "data.Additional_Info.replace('No Info','No info',inplace=True)"
   ]
  },
  {
   "cell_type": "code",
   "execution_count": 35,
   "id": "43caea0c",
   "metadata": {
    "scrolled": true
   },
   "outputs": [
    {
     "data": {
      "text/plain": [
       "Airline                  0\n",
       "Date_of_Journey          0\n",
       "Source                   0\n",
       "Destination              0\n",
       "Route                    1\n",
       "Dep_Time                 0\n",
       "Arrival_Time             0\n",
       "Duration                 0\n",
       "Total_Stops              1\n",
       "Additional_Info          0\n",
       "Price                    0\n",
       "Date                     0\n",
       "Month                    0\n",
       "Year                     0\n",
       "City1                    1\n",
       "City2                    1\n",
       "City3                 3492\n",
       "City4                 9117\n",
       "City5                10637\n",
       "City6                10682\n",
       "Dep_Time_Hour            0\n",
       "Dep_Time_Min             0\n",
       "Arrival_date          6348\n",
       "Time_of_arrival          0\n",
       "Arrival_Time_Hour        0\n",
       "Arrival_Time_Min         0\n",
       "Travel_hours             0\n",
       "Travel_mins           1032\n",
       "dtype: int64"
      ]
     },
     "execution_count": 35,
     "metadata": {},
     "output_type": "execute_result"
    }
   ],
   "source": [
    "data.isnull().sum()"
   ]
  },
  {
   "cell_type": "code",
   "execution_count": 36,
   "id": "2182a818",
   "metadata": {},
   "outputs": [],
   "source": [
    "data.drop(['Route','City5','City6'],axis=1,inplace=True)"
   ]
  },
  {
   "cell_type": "code",
   "execution_count": 37,
   "id": "725a6ca8",
   "metadata": {},
   "outputs": [
    {
     "data": {
      "text/plain": [
       "Airline                 0\n",
       "Date_of_Journey         0\n",
       "Source                  0\n",
       "Destination             0\n",
       "Dep_Time                0\n",
       "Arrival_Time            0\n",
       "Duration                0\n",
       "Total_Stops             1\n",
       "Additional_Info         0\n",
       "Price                   0\n",
       "Date                    0\n",
       "Month                   0\n",
       "Year                    0\n",
       "City1                   1\n",
       "City2                   1\n",
       "City3                3492\n",
       "City4                9117\n",
       "Dep_Time_Hour           0\n",
       "Dep_Time_Min            0\n",
       "Arrival_date         6348\n",
       "Time_of_arrival         0\n",
       "Arrival_Time_Hour       0\n",
       "Arrival_Time_Min        0\n",
       "Travel_hours            0\n",
       "Travel_mins          1032\n",
       "dtype: int64"
      ]
     },
     "execution_count": 37,
     "metadata": {},
     "output_type": "execute_result"
    }
   ],
   "source": [
    "data.isnull().sum()"
   ]
  },
  {
   "cell_type": "code",
   "execution_count": 38,
   "id": "2e8f9c48",
   "metadata": {},
   "outputs": [],
   "source": [
    "data.drop(['City4'],axis=1,inplace=True)"
   ]
  },
  {
   "cell_type": "code",
   "execution_count": 39,
   "id": "2761aa35",
   "metadata": {},
   "outputs": [],
   "source": [
    "#now will fill the missing values\n",
    "data['City3'].fillna('None',inplace=True)\n",
    "data['Arrival_date'].fillna(data['Date'],inplace=True)\n",
    "data['Travel_mins'].fillna(0,inplace=True)"
   ]
  },
  {
   "cell_type": "code",
   "execution_count": 40,
   "id": "fd53e100",
   "metadata": {},
   "outputs": [],
   "source": [
    "data['City1'].fillna('DEL',inplace=True)\n",
    "data['City2'].fillna('COK',inplace=True)\n",
    "data['Total_Stops'].fillna(0,inplace=True)"
   ]
  },
  {
   "cell_type": "code",
   "execution_count": 41,
   "id": "38b8e57a",
   "metadata": {
    "scrolled": true
   },
   "outputs": [
    {
     "data": {
      "text/plain": [
       "Airline              0\n",
       "Date_of_Journey      0\n",
       "Source               0\n",
       "Destination          0\n",
       "Dep_Time             0\n",
       "Arrival_Time         0\n",
       "Duration             0\n",
       "Total_Stops          0\n",
       "Additional_Info      0\n",
       "Price                0\n",
       "Date                 0\n",
       "Month                0\n",
       "Year                 0\n",
       "City1                0\n",
       "City2                0\n",
       "City3                0\n",
       "Dep_Time_Hour        0\n",
       "Dep_Time_Min         0\n",
       "Arrival_date         0\n",
       "Time_of_arrival      0\n",
       "Arrival_Time_Hour    0\n",
       "Arrival_Time_Min     0\n",
       "Travel_hours         0\n",
       "Travel_mins          0\n",
       "dtype: int64"
      ]
     },
     "execution_count": 41,
     "metadata": {},
     "output_type": "execute_result"
    }
   ],
   "source": [
    "data.isnull().sum()"
   ]
  },
  {
   "cell_type": "code",
   "execution_count": 42,
   "id": "1fd77195",
   "metadata": {},
   "outputs": [],
   "source": [
    "#changing numerical columns from object to int\n",
    "data.Total_Stops=data.Total_Stops.astype('int64')\n",
    "data.Date=data.Date.astype('int64')\n",
    "data.Month=data.Month.astype('int64')\n",
    "data.Year=data.Year.astype('int64')\n",
    "data.Dep_Time_Hour=data.Dep_Time_Hour.astype('int64')\n",
    "data.Dep_Time_Min=data.Dep_Time_Min.astype('int64')\n",
    "data.Arrival_date=data.Arrival_date.astype('int64')\n",
    "data.Arrival_Time_Hour=data.Arrival_Time_Hour.astype('int64')\n",
    "data.Arrival_Time_Min=data.Arrival_Time_Min.astype('int64')\n",
    "data.Travel_mins=data.Travel_mins.astype('int64')\n",
    "data.drop(index=6474,inplace=True,axis=0)\n",
    "\n",
    "\n"
   ]
  },
  {
   "cell_type": "code",
   "execution_count": 43,
   "id": "57591c9c",
   "metadata": {},
   "outputs": [],
   "source": [
    "data.Travel_hours=data.Travel_hours.astype('int64')"
   ]
  },
  {
   "cell_type": "code",
   "execution_count": 44,
   "id": "30edd23a",
   "metadata": {},
   "outputs": [],
   "source": [
    "#list of columns\n",
    "categorical=['Airline','Source','Destination','Additional_Info','City1','City2','City3']\n",
    "numerical=['Total_Stops','Date','Month','Year','Dep_Time_Hour','Dep_Time_Min','Arrival_date','Arrival_Time_Hour','Arrival_Time_Min','Travel_hours','Travel_mins'],"
   ]
  },
  {
   "cell_type": "code",
   "execution_count": 45,
   "id": "81044c41",
   "metadata": {},
   "outputs": [
    {
     "data": {
      "text/plain": [
       "<AxesSubplot:>"
      ]
     },
     "execution_count": 45,
     "metadata": {},
     "output_type": "execute_result"
    },
    {
     "data": {
      "image/png": "[encoded data removed]",
      "text/plain": [
       "<Figure size 432x288 with 1 Axes>"
      ]
     },
     "metadata": {
      "needs_background": "light"
     },
     "output_type": "display_data"
    }
   ],
   "source": [
    "#checking outliers\n",
    "data['Total_Stops'].plot.box()"
   ]
  },
  {
   "cell_type": "code",
   "execution_count": 46,
   "id": "ed619676",
   "metadata": {},
   "outputs": [
    {
     "data": {
      "text/plain": [
       "<AxesSubplot:>"
      ]
     },
     "execution_count": 46,
     "metadata": {},
     "output_type": "execute_result"
    },
    {
     "data": {
      "image/png": "[encoded data removed]",
      "text/plain": [
       "<Figure size 432x288 with 1 Axes>"
      ]
     },
     "metadata": {
      "needs_background": "light"
     },
     "output_type": "display_data"
    }
   ],
   "source": [
    "data['Date'].plot.box()"
   ]
  },
  {
   "cell_type": "code",
   "execution_count": 47,
   "id": "c7185e9b",
   "metadata": {},
   "outputs": [
    {
     "data": {
      "text/plain": [
       "<AxesSubplot:>"
      ]
     },
     "execution_count": 47,
     "metadata": {},
     "output_type": "execute_result"
    },
    {
     "data": {
      "image/png": "[encoded data removed]",
      "text/plain": [
       "<Figure size 432x288 with 1 Axes>"
      ]
     },
     "metadata": {
      "needs_background": "light"
     },
     "output_type": "display_data"
    }
   ],
   "source": [
    "data['Travel_hours'].plot.box()"
   ]
  },
  {
   "cell_type": "code",
   "execution_count": 48,
   "id": "a72d52e0",
   "metadata": {},
   "outputs": [
    {
     "data": {
      "text/plain": [
       "Total_Stops          0.317345\n",
       "Price                1.813248\n",
       "Date                 0.118174\n",
       "Month               -0.387708\n",
       "Year                 0.000000\n",
       "Dep_Time_Hour        0.113224\n",
       "Dep_Time_Min         0.167210\n",
       "Arrival_date         0.119667\n",
       "Arrival_Time_Hour   -0.369876\n",
       "Arrival_Time_Min     0.110928\n",
       "Travel_hours         0.850822\n",
       "Travel_mins         -0.091004\n",
       "dtype: float64"
      ]
     },
     "execution_count": 48,
     "metadata": {},
     "output_type": "execute_result"
    }
   ],
   "source": [
    "data.skew()"
   ]
  },
  {
   "cell_type": "code",
   "execution_count": 49,
   "id": "7e4cbc35",
   "metadata": {},
   "outputs": [
    {
     "data": {
      "text/plain": [
       "-0.26612233332369917"
      ]
     },
     "execution_count": 49,
     "metadata": {},
     "output_type": "execute_result"
    }
   ],
   "source": [
    "data.Travel_hours=np.log(data.Travel_hours)\n",
    "data.Travel_hours.skew()"
   ]
  },
  {
   "cell_type": "markdown",
   "id": "79c6f2c2",
   "metadata": {},
   "source": [
    "so we have sucessfully skewed data"
   ]
  },
  {
   "cell_type": "markdown",
   "id": "14308990",
   "metadata": {},
   "source": [
    "# data encoding"
   ]
  },
  {
   "cell_type": "code",
   "execution_count": 50,
   "id": "4ded5832",
   "metadata": {},
   "outputs": [],
   "source": [
    "from sklearn.preprocessing import LabelEncoder"
   ]
  },
  {
   "cell_type": "code",
   "execution_count": 51,
   "id": "5d90f930",
   "metadata": {},
   "outputs": [],
   "source": [
    "le=LabelEncoder()\n",
    "label=le.fit_transform(data[\"Airline\"])\n",
    "label\n",
    "data=data.drop(\"Airline\",axis='columns')\n",
    "data[\"Airline\"]=label\n"
   ]
  },
  {
   "cell_type": "code",
   "execution_count": 52,
   "id": "f67616ea",
   "metadata": {},
   "outputs": [],
   "source": [
    "le=LabelEncoder()\n",
    "label=le.fit_transform(data[\"Source\"])\n",
    "label\n",
    "data=data.drop(\"Source\",axis='columns')\n",
    "data[\"Source\"]=label"
   ]
  },
  {
   "cell_type": "code",
   "execution_count": 53,
   "id": "e6712d47",
   "metadata": {},
   "outputs": [],
   "source": [
    "le=LabelEncoder()\n",
    "label=le.fit_transform(data[\"Destination\"])\n",
    "label\n",
    "data=data.drop(\"Destination\",axis='columns')\n",
    "data[\"Destination\"]=label"
   ]
  },
  {
   "cell_type": "code",
   "execution_count": 54,
   "id": "8e70c012",
   "metadata": {},
   "outputs": [],
   "source": [
    "le=LabelEncoder()\n",
    "label=le.fit_transform(data[\"Additional_Info\"])\n",
    "label\n",
    "data=data.drop(\"Additional_Info\",axis='columns')\n",
    "data[\"Additional_Info\"]=label"
   ]
  },
  {
   "cell_type": "code",
   "execution_count": 55,
   "id": "2c091a9d",
   "metadata": {},
   "outputs": [],
   "source": [
    "le=LabelEncoder()\n",
    "label=le.fit_transform(data[\"City1\"])\n",
    "label\n",
    "data=data.drop(\"City1\",axis='columns')\n",
    "data[\"City1\"]=label"
   ]
  },
  {
   "cell_type": "code",
   "execution_count": 56,
   "id": "b4c39594",
   "metadata": {},
   "outputs": [],
   "source": [
    "le=LabelEncoder()\n",
    "label=le.fit_transform(data[\"City2\"])\n",
    "label\n",
    "data=data.drop(\"City2\",axis='columns')\n",
    "data[\"City2\"]=label"
   ]
  },
  {
   "cell_type": "code",
   "execution_count": 57,
   "id": "d5f396ac",
   "metadata": {
    "scrolled": true
   },
   "outputs": [
    {
     "data": {
      "text/html": [
       "<div>\n",
       "<style scoped>\n",
       "    .dataframe tbody tr th:only-of-type {\n",
       "        vertical-align: middle;\n",
       "    }\n",
       "\n",
       "    .dataframe tbody tr th {\n",
       "        vertical-align: top;\n",
       "    }\n",
       "\n",
       "    .dataframe thead th {\n",
       "        text-align: right;\n",
       "    }\n",
       "</style>\n",
       "<table border=\"1\" class=\"dataframe\">\n",
       "  <thead>\n",
       "    <tr style=\"text-align: right;\">\n",
       "      <th></th>\n",
       "      <th>Date_of_Journey</th>\n",
       "      <th>Dep_Time</th>\n",
       "      <th>Arrival_Time</th>\n",
       "      <th>Duration</th>\n",
       "      <th>Total_Stops</th>\n",
       "      <th>Price</th>\n",
       "      <th>Date</th>\n",
       "      <th>Month</th>\n",
       "      <th>Year</th>\n",
       "      <th>Dep_Time_Hour</th>\n",
       "      <th>...</th>\n",
       "      <th>Arrival_Time_Min</th>\n",
       "      <th>Travel_hours</th>\n",
       "      <th>Travel_mins</th>\n",
       "      <th>Airline</th>\n",
       "      <th>Source</th>\n",
       "      <th>Destination</th>\n",
       "      <th>Additional_Info</th>\n",
       "      <th>City1</th>\n",
       "      <th>City2</th>\n",
       "      <th>City3</th>\n",
       "    </tr>\n",
       "  </thead>\n",
       "  <tbody>\n",
       "    <tr>\n",
       "      <th>0</th>\n",
       "      <td>[24, 03, 2019]</td>\n",
       "      <td>[22, 20]</td>\n",
       "      <td>[01:10, 22, Mar]</td>\n",
       "      <td>[2h, 50m]</td>\n",
       "      <td>0</td>\n",
       "      <td>3897</td>\n",
       "      <td>24</td>\n",
       "      <td>3</td>\n",
       "      <td>2019</td>\n",
       "      <td>22</td>\n",
       "      <td>...</td>\n",
       "      <td>10</td>\n",
       "      <td>0.693147</td>\n",
       "      <td>50</td>\n",
       "      <td>3</td>\n",
       "      <td>0</td>\n",
       "      <td>5</td>\n",
       "      <td>7</td>\n",
       "      <td>0</td>\n",
       "      <td>13</td>\n",
       "      <td>29</td>\n",
       "    </tr>\n",
       "    <tr>\n",
       "      <th>1</th>\n",
       "      <td>[1, 05, 2019]</td>\n",
       "      <td>[05, 50]</td>\n",
       "      <td>[13:15]</td>\n",
       "      <td>[7h, 25m]</td>\n",
       "      <td>2</td>\n",
       "      <td>7662</td>\n",
       "      <td>1</td>\n",
       "      <td>5</td>\n",
       "      <td>2019</td>\n",
       "      <td>5</td>\n",
       "      <td>...</td>\n",
       "      <td>15</td>\n",
       "      <td>1.945910</td>\n",
       "      <td>25</td>\n",
       "      <td>1</td>\n",
       "      <td>3</td>\n",
       "      <td>0</td>\n",
       "      <td>7</td>\n",
       "      <td>2</td>\n",
       "      <td>25</td>\n",
       "      <td>1</td>\n",
       "    </tr>\n",
       "    <tr>\n",
       "      <th>2</th>\n",
       "      <td>[9, 06, 2019]</td>\n",
       "      <td>[09, 25]</td>\n",
       "      <td>[04:25, 10, Jun]</td>\n",
       "      <td>[19h]</td>\n",
       "      <td>2</td>\n",
       "      <td>13882</td>\n",
       "      <td>9</td>\n",
       "      <td>6</td>\n",
       "      <td>2019</td>\n",
       "      <td>9</td>\n",
       "      <td>...</td>\n",
       "      <td>25</td>\n",
       "      <td>2.944439</td>\n",
       "      <td>0</td>\n",
       "      <td>4</td>\n",
       "      <td>2</td>\n",
       "      <td>1</td>\n",
       "      <td>7</td>\n",
       "      <td>4</td>\n",
       "      <td>32</td>\n",
       "      <td>4</td>\n",
       "    </tr>\n",
       "    <tr>\n",
       "      <th>3</th>\n",
       "      <td>[12, 05, 2019]</td>\n",
       "      <td>[18, 05]</td>\n",
       "      <td>[23:30]</td>\n",
       "      <td>[5h, 25m]</td>\n",
       "      <td>1</td>\n",
       "      <td>6218</td>\n",
       "      <td>12</td>\n",
       "      <td>5</td>\n",
       "      <td>2019</td>\n",
       "      <td>18</td>\n",
       "      <td>...</td>\n",
       "      <td>30</td>\n",
       "      <td>1.609438</td>\n",
       "      <td>25</td>\n",
       "      <td>3</td>\n",
       "      <td>3</td>\n",
       "      <td>0</td>\n",
       "      <td>7</td>\n",
       "      <td>2</td>\n",
       "      <td>34</td>\n",
       "      <td>3</td>\n",
       "    </tr>\n",
       "    <tr>\n",
       "      <th>4</th>\n",
       "      <td>[01, 03, 2019]</td>\n",
       "      <td>[16, 50]</td>\n",
       "      <td>[21:35]</td>\n",
       "      <td>[4h, 45m]</td>\n",
       "      <td>1</td>\n",
       "      <td>13302</td>\n",
       "      <td>1</td>\n",
       "      <td>3</td>\n",
       "      <td>2019</td>\n",
       "      <td>16</td>\n",
       "      <td>...</td>\n",
       "      <td>35</td>\n",
       "      <td>1.386294</td>\n",
       "      <td>45</td>\n",
       "      <td>3</td>\n",
       "      <td>0</td>\n",
       "      <td>5</td>\n",
       "      <td>7</td>\n",
       "      <td>0</td>\n",
       "      <td>34</td>\n",
       "      <td>8</td>\n",
       "    </tr>\n",
       "    <tr>\n",
       "      <th>...</th>\n",
       "      <td>...</td>\n",
       "      <td>...</td>\n",
       "      <td>...</td>\n",
       "      <td>...</td>\n",
       "      <td>...</td>\n",
       "      <td>...</td>\n",
       "      <td>...</td>\n",
       "      <td>...</td>\n",
       "      <td>...</td>\n",
       "      <td>...</td>\n",
       "      <td>...</td>\n",
       "      <td>...</td>\n",
       "      <td>...</td>\n",
       "      <td>...</td>\n",
       "      <td>...</td>\n",
       "      <td>...</td>\n",
       "      <td>...</td>\n",
       "      <td>...</td>\n",
       "      <td>...</td>\n",
       "      <td>...</td>\n",
       "      <td>...</td>\n",
       "    </tr>\n",
       "    <tr>\n",
       "      <th>10678</th>\n",
       "      <td>[9, 04, 2019]</td>\n",
       "      <td>[19, 55]</td>\n",
       "      <td>[22:25]</td>\n",
       "      <td>[2h, 30m]</td>\n",
       "      <td>0</td>\n",
       "      <td>4107</td>\n",
       "      <td>9</td>\n",
       "      <td>4</td>\n",
       "      <td>2019</td>\n",
       "      <td>19</td>\n",
       "      <td>...</td>\n",
       "      <td>25</td>\n",
       "      <td>0.693147</td>\n",
       "      <td>30</td>\n",
       "      <td>0</td>\n",
       "      <td>3</td>\n",
       "      <td>0</td>\n",
       "      <td>7</td>\n",
       "      <td>2</td>\n",
       "      <td>5</td>\n",
       "      <td>29</td>\n",
       "    </tr>\n",
       "    <tr>\n",
       "      <th>10679</th>\n",
       "      <td>[27, 04, 2019]</td>\n",
       "      <td>[20, 45]</td>\n",
       "      <td>[23:20]</td>\n",
       "      <td>[2h, 35m]</td>\n",
       "      <td>0</td>\n",
       "      <td>4145</td>\n",
       "      <td>27</td>\n",
       "      <td>4</td>\n",
       "      <td>2019</td>\n",
       "      <td>20</td>\n",
       "      <td>...</td>\n",
       "      <td>20</td>\n",
       "      <td>0.693147</td>\n",
       "      <td>35</td>\n",
       "      <td>1</td>\n",
       "      <td>3</td>\n",
       "      <td>0</td>\n",
       "      <td>7</td>\n",
       "      <td>2</td>\n",
       "      <td>5</td>\n",
       "      <td>29</td>\n",
       "    </tr>\n",
       "    <tr>\n",
       "      <th>10680</th>\n",
       "      <td>[27, 04, 2019]</td>\n",
       "      <td>[08, 20]</td>\n",
       "      <td>[11:20]</td>\n",
       "      <td>[3h]</td>\n",
       "      <td>0</td>\n",
       "      <td>7229</td>\n",
       "      <td>27</td>\n",
       "      <td>4</td>\n",
       "      <td>2019</td>\n",
       "      <td>8</td>\n",
       "      <td>...</td>\n",
       "      <td>20</td>\n",
       "      <td>1.098612</td>\n",
       "      <td>0</td>\n",
       "      <td>4</td>\n",
       "      <td>0</td>\n",
       "      <td>2</td>\n",
       "      <td>7</td>\n",
       "      <td>0</td>\n",
       "      <td>13</td>\n",
       "      <td>29</td>\n",
       "    </tr>\n",
       "    <tr>\n",
       "      <th>10681</th>\n",
       "      <td>[01, 03, 2019]</td>\n",
       "      <td>[11, 30]</td>\n",
       "      <td>[14:10]</td>\n",
       "      <td>[2h, 40m]</td>\n",
       "      <td>0</td>\n",
       "      <td>12648</td>\n",
       "      <td>1</td>\n",
       "      <td>3</td>\n",
       "      <td>2019</td>\n",
       "      <td>11</td>\n",
       "      <td>...</td>\n",
       "      <td>10</td>\n",
       "      <td>0.693147</td>\n",
       "      <td>40</td>\n",
       "      <td>10</td>\n",
       "      <td>0</td>\n",
       "      <td>5</td>\n",
       "      <td>7</td>\n",
       "      <td>0</td>\n",
       "      <td>13</td>\n",
       "      <td>29</td>\n",
       "    </tr>\n",
       "    <tr>\n",
       "      <th>10682</th>\n",
       "      <td>[9, 05, 2019]</td>\n",
       "      <td>[10, 55]</td>\n",
       "      <td>[19:15]</td>\n",
       "      <td>[8h, 20m]</td>\n",
       "      <td>2</td>\n",
       "      <td>11753</td>\n",
       "      <td>9</td>\n",
       "      <td>5</td>\n",
       "      <td>2019</td>\n",
       "      <td>10</td>\n",
       "      <td>...</td>\n",
       "      <td>15</td>\n",
       "      <td>2.079442</td>\n",
       "      <td>20</td>\n",
       "      <td>1</td>\n",
       "      <td>2</td>\n",
       "      <td>1</td>\n",
       "      <td>7</td>\n",
       "      <td>4</td>\n",
       "      <td>16</td>\n",
       "      <td>4</td>\n",
       "    </tr>\n",
       "  </tbody>\n",
       "</table>\n",
       "<p>10682 rows × 24 columns</p>\n",
       "</div>"
      ],
      "text/plain": [
       "      Date_of_Journey  Dep_Time      Arrival_Time   Duration  Total_Stops  \\\n",
       "0      [24, 03, 2019]  [22, 20]  [01:10, 22, Mar]  [2h, 50m]            0   \n",
       "1       [1, 05, 2019]  [05, 50]           [13:15]  [7h, 25m]            2   \n",
       "2       [9, 06, 2019]  [09, 25]  [04:25, 10, Jun]      [19h]            2   \n",
       "3      [12, 05, 2019]  [18, 05]           [23:30]  [5h, 25m]            1   \n",
       "4      [01, 03, 2019]  [16, 50]           [21:35]  [4h, 45m]            1   \n",
       "...               ...       ...               ...        ...          ...   \n",
       "10678   [9, 04, 2019]  [19, 55]           [22:25]  [2h, 30m]            0   \n",
       "10679  [27, 04, 2019]  [20, 45]           [23:20]  [2h, 35m]            0   \n",
       "10680  [27, 04, 2019]  [08, 20]           [11:20]       [3h]            0   \n",
       "10681  [01, 03, 2019]  [11, 30]           [14:10]  [2h, 40m]            0   \n",
       "10682   [9, 05, 2019]  [10, 55]           [19:15]  [8h, 20m]            2   \n",
       "\n",
       "       Price  Date  Month  Year  Dep_Time_Hour  ...  Arrival_Time_Min  \\\n",
       "0       3897    24      3  2019             22  ...                10   \n",
       "1       7662     1      5  2019              5  ...                15   \n",
       "2      13882     9      6  2019              9  ...                25   \n",
       "3       6218    12      5  2019             18  ...                30   \n",
       "4      13302     1      3  2019             16  ...                35   \n",
       "...      ...   ...    ...   ...            ...  ...               ...   \n",
       "10678   4107     9      4  2019             19  ...                25   \n",
       "10679   4145    27      4  2019             20  ...                20   \n",
       "10680   7229    27      4  2019              8  ...                20   \n",
       "10681  12648     1      3  2019             11  ...                10   \n",
       "10682  11753     9      5  2019             10  ...                15   \n",
       "\n",
       "       Travel_hours Travel_mins  Airline  Source  Destination  \\\n",
       "0          0.693147          50        3       0            5   \n",
       "1          1.945910          25        1       3            0   \n",
       "2          2.944439           0        4       2            1   \n",
       "3          1.609438          25        3       3            0   \n",
       "4          1.386294          45        3       0            5   \n",
       "...             ...         ...      ...     ...          ...   \n",
       "10678      0.693147          30        0       3            0   \n",
       "10679      0.693147          35        1       3            0   \n",
       "10680      1.098612           0        4       0            2   \n",
       "10681      0.693147          40       10       0            5   \n",
       "10682      2.079442          20        1       2            1   \n",
       "\n",
       "       Additional_Info  City1  City2  City3  \n",
       "0                    7      0     13     29  \n",
       "1                    7      2     25      1  \n",
       "2                    7      4     32      4  \n",
       "3                    7      2     34      3  \n",
       "4                    7      0     34      8  \n",
       "...                ...    ...    ...    ...  \n",
       "10678                7      2      5     29  \n",
       "10679                7      2      5     29  \n",
       "10680                7      0     13     29  \n",
       "10681                7      0     13     29  \n",
       "10682                7      4     16      4  \n",
       "\n",
       "[10682 rows x 24 columns]"
      ]
     },
     "execution_count": 57,
     "metadata": {},
     "output_type": "execute_result"
    }
   ],
   "source": [
    "le=LabelEncoder()\n",
    "label=le.fit_transform(data[\"City3\"])\n",
    "label\n",
    "data=data.drop(\"City3\",axis='columns')\n",
    "data[\"City3\"]=label\n",
    "data"
   ]
  },
  {
   "cell_type": "code",
   "execution_count": 58,
   "id": "19d06d46",
   "metadata": {
    "scrolled": true
   },
   "outputs": [
    {
     "name": "stdout",
     "output_type": "stream",
     "text": [
      "<class 'pandas.core.frame.DataFrame'>\n",
      "Int64Index: 10682 entries, 0 to 10682\n",
      "Data columns (total 24 columns):\n",
      " #   Column             Non-Null Count  Dtype  \n",
      "---  ------             --------------  -----  \n",
      " 0   Date_of_Journey    10682 non-null  object \n",
      " 1   Dep_Time           10682 non-null  object \n",
      " 2   Arrival_Time       10682 non-null  object \n",
      " 3   Duration           10682 non-null  object \n",
      " 4   Total_Stops        10682 non-null  int64  \n",
      " 5   Price              10682 non-null  int64  \n",
      " 6   Date               10682 non-null  int64  \n",
      " 7   Month              10682 non-null  int64  \n",
      " 8   Year               10682 non-null  int64  \n",
      " 9   Dep_Time_Hour      10682 non-null  int64  \n",
      " 10  Dep_Time_Min       10682 non-null  int64  \n",
      " 11  Arrival_date       10682 non-null  int64  \n",
      " 12  Time_of_arrival    10682 non-null  object \n",
      " 13  Arrival_Time_Hour  10682 non-null  int64  \n",
      " 14  Arrival_Time_Min   10682 non-null  int64  \n",
      " 15  Travel_hours       10682 non-null  float64\n",
      " 16  Travel_mins        10682 non-null  int64  \n",
      " 17  Airline            10682 non-null  int32  \n",
      " 18  Source             10682 non-null  int32  \n",
      " 19  Destination        10682 non-null  int32  \n",
      " 20  Additional_Info    10682 non-null  int32  \n",
      " 21  City1              10682 non-null  int32  \n",
      " 22  City2              10682 non-null  int32  \n",
      " 23  City3              10682 non-null  int32  \n",
      "dtypes: float64(1), int32(7), int64(11), object(5)\n",
      "memory usage: 1.8+ MB\n"
     ]
    }
   ],
   "source": [
    "data.info()"
   ]
  },
  {
   "cell_type": "code",
   "execution_count": 59,
   "id": "7a45e72f",
   "metadata": {},
   "outputs": [],
   "source": [
    "data.drop(['Date_of_Journey','Dep_Time','Arrival_Time','Duration','Time_of_arrival'],axis=1,inplace=True)"
   ]
  },
  {
   "cell_type": "code",
   "execution_count": 60,
   "id": "712fb830",
   "metadata": {},
   "outputs": [
    {
     "name": "stdout",
     "output_type": "stream",
     "text": [
      "<class 'pandas.core.frame.DataFrame'>\n",
      "Int64Index: 10682 entries, 0 to 10682\n",
      "Data columns (total 19 columns):\n",
      " #   Column             Non-Null Count  Dtype  \n",
      "---  ------             --------------  -----  \n",
      " 0   Total_Stops        10682 non-null  int64  \n",
      " 1   Price              10682 non-null  int64  \n",
      " 2   Date               10682 non-null  int64  \n",
      " 3   Month              10682 non-null  int64  \n",
      " 4   Year               10682 non-null  int64  \n",
      " 5   Dep_Time_Hour      10682 non-null  int64  \n",
      " 6   Dep_Time_Min       10682 non-null  int64  \n",
      " 7   Arrival_date       10682 non-null  int64  \n",
      " 8   Arrival_Time_Hour  10682 non-null  int64  \n",
      " 9   Arrival_Time_Min   10682 non-null  int64  \n",
      " 10  Travel_hours       10682 non-null  float64\n",
      " 11  Travel_mins        10682 non-null  int64  \n",
      " 12  Airline            10682 non-null  int32  \n",
      " 13  Source             10682 non-null  int32  \n",
      " 14  Destination        10682 non-null  int32  \n",
      " 15  Additional_Info    10682 non-null  int32  \n",
      " 16  City1              10682 non-null  int32  \n",
      " 17  City2              10682 non-null  int32  \n",
      " 18  City3              10682 non-null  int32  \n",
      "dtypes: float64(1), int32(7), int64(11)\n",
      "memory usage: 1.3 MB\n"
     ]
    }
   ],
   "source": [
    "data.info()"
   ]
  },
  {
   "cell_type": "markdown",
   "id": "233cf968",
   "metadata": {},
   "source": [
    "# heatmap"
   ]
  },
  {
   "cell_type": "code",
   "execution_count": 61,
   "id": "dde0e747",
   "metadata": {
    "scrolled": true
   },
   "outputs": [
    {
     "data": {
      "text/plain": [
       "<AxesSubplot:>"
      ]
     },
     "execution_count": 61,
     "metadata": {},
     "output_type": "execute_result"
    },
    {
     "data": {
      "image/png": "[encoded data removed]",
      "text/plain": [
       "<Figure size 1584x504 with 2 Axes>"
      ]
     },
     "metadata": {
      "needs_background": "light"
     },
     "output_type": "display_data"
    }
   ],
   "source": [
    "#heat map\n",
    "plt.figure(figsize=(22,7))\n",
    "sns.heatmap(data.corr(),annot=True,linewidths=0.1,linecolor='black',fmt='0.2f')"
   ]
  },
  {
   "cell_type": "code",
   "execution_count": 62,
   "id": "2df1717d",
   "metadata": {},
   "outputs": [],
   "source": [
    "data.drop(['Year'],axis=1,inplace=True)"
   ]
  },
  {
   "cell_type": "code",
   "execution_count": 63,
   "id": "f9955e75",
   "metadata": {},
   "outputs": [
    {
     "data": {
      "text/html": [
       "<div>\n",
       "<style scoped>\n",
       "    .dataframe tbody tr th:only-of-type {\n",
       "        vertical-align: middle;\n",
       "    }\n",
       "\n",
       "    .dataframe tbody tr th {\n",
       "        vertical-align: top;\n",
       "    }\n",
       "\n",
       "    .dataframe thead th {\n",
       "        text-align: right;\n",
       "    }\n",
       "</style>\n",
       "<table border=\"1\" class=\"dataframe\">\n",
       "  <thead>\n",
       "    <tr style=\"text-align: right;\">\n",
       "      <th></th>\n",
       "      <th>Total_Stops</th>\n",
       "      <th>Price</th>\n",
       "      <th>Date</th>\n",
       "      <th>Month</th>\n",
       "      <th>Dep_Time_Hour</th>\n",
       "      <th>Dep_Time_Min</th>\n",
       "      <th>Arrival_date</th>\n",
       "      <th>Arrival_Time_Hour</th>\n",
       "      <th>Arrival_Time_Min</th>\n",
       "      <th>Travel_hours</th>\n",
       "      <th>Travel_mins</th>\n",
       "      <th>Airline</th>\n",
       "      <th>Source</th>\n",
       "      <th>Destination</th>\n",
       "      <th>Additional_Info</th>\n",
       "      <th>City1</th>\n",
       "      <th>City2</th>\n",
       "      <th>City3</th>\n",
       "    </tr>\n",
       "  </thead>\n",
       "  <tbody>\n",
       "    <tr>\n",
       "      <th>Total_Stops</th>\n",
       "      <td>1.000000</td>\n",
       "      <td>0.603776</td>\n",
       "      <td>-0.009206</td>\n",
       "      <td>0.054603</td>\n",
       "      <td>-0.061511</td>\n",
       "      <td>-0.002966</td>\n",
       "      <td>0.018008</td>\n",
       "      <td>0.038151</td>\n",
       "      <td>-0.107266</td>\n",
       "      <td>0.833236</td>\n",
       "      <td>-0.136580</td>\n",
       "      <td>-0.199061</td>\n",
       "      <td>0.192593</td>\n",
       "      <td>-0.295651</td>\n",
       "      <td>-0.067943</td>\n",
       "      <td>0.437797</td>\n",
       "      <td>0.161587</td>\n",
       "      <td>-0.800594</td>\n",
       "    </tr>\n",
       "    <tr>\n",
       "      <th>Price</th>\n",
       "      <td>0.603776</td>\n",
       "      <td>1.000000</td>\n",
       "      <td>-0.153619</td>\n",
       "      <td>-0.103431</td>\n",
       "      <td>0.006718</td>\n",
       "      <td>-0.024726</td>\n",
       "      <td>-0.134527</td>\n",
       "      <td>0.024203</td>\n",
       "      <td>-0.086489</td>\n",
       "      <td>0.614039</td>\n",
       "      <td>-0.124673</td>\n",
       "      <td>-0.039318</td>\n",
       "      <td>0.015711</td>\n",
       "      <td>-0.071304</td>\n",
       "      <td>-0.063862</td>\n",
       "      <td>0.195913</td>\n",
       "      <td>-0.087404</td>\n",
       "      <td>-0.591567</td>\n",
       "    </tr>\n",
       "    <tr>\n",
       "      <th>Date</th>\n",
       "      <td>-0.009206</td>\n",
       "      <td>-0.153619</td>\n",
       "      <td>1.000000</td>\n",
       "      <td>-0.038505</td>\n",
       "      <td>0.002271</td>\n",
       "      <td>-0.008149</td>\n",
       "      <td>0.997449</td>\n",
       "      <td>-0.003160</td>\n",
       "      <td>-0.017362</td>\n",
       "      <td>-0.023833</td>\n",
       "      <td>-0.009112</td>\n",
       "      <td>0.026137</td>\n",
       "      <td>0.005043</td>\n",
       "      <td>-0.040914</td>\n",
       "      <td>-0.012798</td>\n",
       "      <td>0.089654</td>\n",
       "      <td>-0.025021</td>\n",
       "      <td>0.022748</td>\n",
       "    </tr>\n",
       "    <tr>\n",
       "      <th>Month</th>\n",
       "      <td>0.054603</td>\n",
       "      <td>-0.103431</td>\n",
       "      <td>-0.038505</td>\n",
       "      <td>1.000000</td>\n",
       "      <td>0.039201</td>\n",
       "      <td>-0.059062</td>\n",
       "      <td>-0.034689</td>\n",
       "      <td>-0.003889</td>\n",
       "      <td>-0.100399</td>\n",
       "      <td>0.036121</td>\n",
       "      <td>-0.041076</td>\n",
       "      <td>0.024474</td>\n",
       "      <td>0.183551</td>\n",
       "      <td>-0.364596</td>\n",
       "      <td>-0.045391</td>\n",
       "      <td>0.212636</td>\n",
       "      <td>0.048542</td>\n",
       "      <td>-0.083010</td>\n",
       "    </tr>\n",
       "    <tr>\n",
       "      <th>Dep_Time_Hour</th>\n",
       "      <td>-0.061511</td>\n",
       "      <td>0.006718</td>\n",
       "      <td>0.002271</td>\n",
       "      <td>0.039201</td>\n",
       "      <td>1.000000</td>\n",
       "      <td>-0.024887</td>\n",
       "      <td>0.029013</td>\n",
       "      <td>0.005193</td>\n",
       "      <td>0.067816</td>\n",
       "      <td>-0.013863</td>\n",
       "      <td>-0.023669</td>\n",
       "      <td>-0.035125</td>\n",
       "      <td>0.058954</td>\n",
       "      <td>-0.073045</td>\n",
       "      <td>-0.048133</td>\n",
       "      <td>-0.070273</td>\n",
       "      <td>-0.126378</td>\n",
       "      <td>0.014851</td>\n",
       "    </tr>\n",
       "    <tr>\n",
       "      <th>Dep_Time_Min</th>\n",
       "      <td>-0.002966</td>\n",
       "      <td>-0.024726</td>\n",
       "      <td>-0.008149</td>\n",
       "      <td>-0.059062</td>\n",
       "      <td>-0.024887</td>\n",
       "      <td>1.000000</td>\n",
       "      <td>-0.011256</td>\n",
       "      <td>0.043008</td>\n",
       "      <td>-0.017833</td>\n",
       "      <td>-0.035646</td>\n",
       "      <td>0.092741</td>\n",
       "      <td>-0.059893</td>\n",
       "      <td>-0.057226</td>\n",
       "      <td>0.127775</td>\n",
       "      <td>-0.026095</td>\n",
       "      <td>-0.072621</td>\n",
       "      <td>0.091869</td>\n",
       "      <td>0.049052</td>\n",
       "    </tr>\n",
       "    <tr>\n",
       "      <th>Arrival_date</th>\n",
       "      <td>0.018008</td>\n",
       "      <td>-0.134527</td>\n",
       "      <td>0.997449</td>\n",
       "      <td>-0.034689</td>\n",
       "      <td>0.029013</td>\n",
       "      <td>-0.011256</td>\n",
       "      <td>1.000000</td>\n",
       "      <td>-0.033803</td>\n",
       "      <td>-0.014590</td>\n",
       "      <td>0.010403</td>\n",
       "      <td>-0.009137</td>\n",
       "      <td>0.018772</td>\n",
       "      <td>0.014608</td>\n",
       "      <td>-0.055461</td>\n",
       "      <td>-0.020233</td>\n",
       "      <td>0.101335</td>\n",
       "      <td>-0.025472</td>\n",
       "      <td>-0.000736</td>\n",
       "    </tr>\n",
       "    <tr>\n",
       "      <th>Arrival_Time_Hour</th>\n",
       "      <td>0.038151</td>\n",
       "      <td>0.024203</td>\n",
       "      <td>-0.003160</td>\n",
       "      <td>-0.003889</td>\n",
       "      <td>0.005193</td>\n",
       "      <td>0.043008</td>\n",
       "      <td>-0.033803</td>\n",
       "      <td>1.000000</td>\n",
       "      <td>-0.154453</td>\n",
       "      <td>0.072625</td>\n",
       "      <td>-0.118306</td>\n",
       "      <td>-0.007446</td>\n",
       "      <td>0.025573</td>\n",
       "      <td>-0.039751</td>\n",
       "      <td>0.031119</td>\n",
       "      <td>0.008003</td>\n",
       "      <td>-0.012478</td>\n",
       "      <td>-0.081905</td>\n",
       "    </tr>\n",
       "    <tr>\n",
       "      <th>Arrival_Time_Min</th>\n",
       "      <td>-0.107266</td>\n",
       "      <td>-0.086489</td>\n",
       "      <td>-0.017362</td>\n",
       "      <td>-0.100399</td>\n",
       "      <td>0.067816</td>\n",
       "      <td>-0.017833</td>\n",
       "      <td>-0.014590</td>\n",
       "      <td>-0.154453</td>\n",
       "      <td>1.000000</td>\n",
       "      <td>-0.130773</td>\n",
       "      <td>0.151900</td>\n",
       "      <td>-0.070889</td>\n",
       "      <td>0.020747</td>\n",
       "      <td>0.017017</td>\n",
       "      <td>0.039267</td>\n",
       "      <td>-0.194262</td>\n",
       "      <td>0.045858</td>\n",
       "      <td>0.159849</td>\n",
       "    </tr>\n",
       "    <tr>\n",
       "      <th>Travel_hours</th>\n",
       "      <td>0.833236</td>\n",
       "      <td>0.614039</td>\n",
       "      <td>-0.023833</td>\n",
       "      <td>0.036121</td>\n",
       "      <td>-0.013863</td>\n",
       "      <td>-0.035646</td>\n",
       "      <td>0.010403</td>\n",
       "      <td>0.072625</td>\n",
       "      <td>-0.130773</td>\n",
       "      <td>1.000000</td>\n",
       "      <td>-0.177245</td>\n",
       "      <td>-0.123580</td>\n",
       "      <td>0.123579</td>\n",
       "      <td>-0.342835</td>\n",
       "      <td>-0.162619</td>\n",
       "      <td>0.402344</td>\n",
       "      <td>-0.022022</td>\n",
       "      <td>-0.845992</td>\n",
       "    </tr>\n",
       "    <tr>\n",
       "      <th>Travel_mins</th>\n",
       "      <td>-0.136580</td>\n",
       "      <td>-0.124673</td>\n",
       "      <td>-0.009112</td>\n",
       "      <td>-0.041076</td>\n",
       "      <td>-0.023669</td>\n",
       "      <td>0.092741</td>\n",
       "      <td>-0.009137</td>\n",
       "      <td>-0.118306</td>\n",
       "      <td>0.151900</td>\n",
       "      <td>-0.177245</td>\n",
       "      <td>1.000000</td>\n",
       "      <td>-0.028255</td>\n",
       "      <td>-0.144996</td>\n",
       "      <td>0.061359</td>\n",
       "      <td>0.043806</td>\n",
       "      <td>-0.237733</td>\n",
       "      <td>0.034808</td>\n",
       "      <td>0.166220</td>\n",
       "    </tr>\n",
       "    <tr>\n",
       "      <th>Airline</th>\n",
       "      <td>-0.199061</td>\n",
       "      <td>-0.039318</td>\n",
       "      <td>0.026137</td>\n",
       "      <td>0.024474</td>\n",
       "      <td>-0.035125</td>\n",
       "      <td>-0.059893</td>\n",
       "      <td>0.018772</td>\n",
       "      <td>-0.007446</td>\n",
       "      <td>-0.070889</td>\n",
       "      <td>-0.123580</td>\n",
       "      <td>-0.028255</td>\n",
       "      <td>1.000000</td>\n",
       "      <td>-0.013198</td>\n",
       "      <td>0.018607</td>\n",
       "      <td>-0.077741</td>\n",
       "      <td>0.033673</td>\n",
       "      <td>-0.061792</td>\n",
       "      <td>0.060289</td>\n",
       "    </tr>\n",
       "    <tr>\n",
       "      <th>Source</th>\n",
       "      <td>0.192593</td>\n",
       "      <td>0.015711</td>\n",
       "      <td>0.005043</td>\n",
       "      <td>0.183551</td>\n",
       "      <td>0.058954</td>\n",
       "      <td>-0.057226</td>\n",
       "      <td>0.014608</td>\n",
       "      <td>0.025573</td>\n",
       "      <td>0.020747</td>\n",
       "      <td>0.123579</td>\n",
       "      <td>-0.144996</td>\n",
       "      <td>-0.013198</td>\n",
       "      <td>1.000000</td>\n",
       "      <td>-0.592862</td>\n",
       "      <td>-0.015940</td>\n",
       "      <td>0.315889</td>\n",
       "      <td>0.035756</td>\n",
       "      <td>-0.271377</td>\n",
       "    </tr>\n",
       "    <tr>\n",
       "      <th>Destination</th>\n",
       "      <td>-0.295651</td>\n",
       "      <td>-0.071304</td>\n",
       "      <td>-0.040914</td>\n",
       "      <td>-0.364596</td>\n",
       "      <td>-0.073045</td>\n",
       "      <td>0.127775</td>\n",
       "      <td>-0.055461</td>\n",
       "      <td>-0.039751</td>\n",
       "      <td>0.017017</td>\n",
       "      <td>-0.342835</td>\n",
       "      <td>0.061359</td>\n",
       "      <td>0.018607</td>\n",
       "      <td>-0.592862</td>\n",
       "      <td>1.000000</td>\n",
       "      <td>0.013040</td>\n",
       "      <td>-0.395101</td>\n",
       "      <td>0.077664</td>\n",
       "      <td>0.410010</td>\n",
       "    </tr>\n",
       "    <tr>\n",
       "      <th>Additional_Info</th>\n",
       "      <td>-0.067943</td>\n",
       "      <td>-0.063862</td>\n",
       "      <td>-0.012798</td>\n",
       "      <td>-0.045391</td>\n",
       "      <td>-0.048133</td>\n",
       "      <td>-0.026095</td>\n",
       "      <td>-0.020233</td>\n",
       "      <td>0.031119</td>\n",
       "      <td>0.039267</td>\n",
       "      <td>-0.162619</td>\n",
       "      <td>0.043806</td>\n",
       "      <td>-0.077741</td>\n",
       "      <td>-0.015940</td>\n",
       "      <td>0.013040</td>\n",
       "      <td>1.000000</td>\n",
       "      <td>0.027864</td>\n",
       "      <td>0.077008</td>\n",
       "      <td>0.148063</td>\n",
       "    </tr>\n",
       "    <tr>\n",
       "      <th>City1</th>\n",
       "      <td>0.437797</td>\n",
       "      <td>0.195913</td>\n",
       "      <td>0.089654</td>\n",
       "      <td>0.212636</td>\n",
       "      <td>-0.070273</td>\n",
       "      <td>-0.072621</td>\n",
       "      <td>0.101335</td>\n",
       "      <td>0.008003</td>\n",
       "      <td>-0.194262</td>\n",
       "      <td>0.402344</td>\n",
       "      <td>-0.237733</td>\n",
       "      <td>0.033673</td>\n",
       "      <td>0.315889</td>\n",
       "      <td>-0.395101</td>\n",
       "      <td>0.027864</td>\n",
       "      <td>1.000000</td>\n",
       "      <td>-0.064973</td>\n",
       "      <td>-0.462621</td>\n",
       "    </tr>\n",
       "    <tr>\n",
       "      <th>City2</th>\n",
       "      <td>0.161587</td>\n",
       "      <td>-0.087404</td>\n",
       "      <td>-0.025021</td>\n",
       "      <td>0.048542</td>\n",
       "      <td>-0.126378</td>\n",
       "      <td>0.091869</td>\n",
       "      <td>-0.025472</td>\n",
       "      <td>-0.012478</td>\n",
       "      <td>0.045858</td>\n",
       "      <td>-0.022022</td>\n",
       "      <td>0.034808</td>\n",
       "      <td>-0.061792</td>\n",
       "      <td>0.035756</td>\n",
       "      <td>0.077664</td>\n",
       "      <td>0.077008</td>\n",
       "      <td>-0.064973</td>\n",
       "      <td>1.000000</td>\n",
       "      <td>-0.002803</td>\n",
       "    </tr>\n",
       "    <tr>\n",
       "      <th>City3</th>\n",
       "      <td>-0.800594</td>\n",
       "      <td>-0.591567</td>\n",
       "      <td>0.022748</td>\n",
       "      <td>-0.083010</td>\n",
       "      <td>0.014851</td>\n",
       "      <td>0.049052</td>\n",
       "      <td>-0.000736</td>\n",
       "      <td>-0.081905</td>\n",
       "      <td>0.159849</td>\n",
       "      <td>-0.845992</td>\n",
       "      <td>0.166220</td>\n",
       "      <td>0.060289</td>\n",
       "      <td>-0.271377</td>\n",
       "      <td>0.410010</td>\n",
       "      <td>0.148063</td>\n",
       "      <td>-0.462621</td>\n",
       "      <td>-0.002803</td>\n",
       "      <td>1.000000</td>\n",
       "    </tr>\n",
       "  </tbody>\n",
       "</table>\n",
       "</div>"
      ],
      "text/plain": [
       "                   Total_Stops     Price      Date     Month  Dep_Time_Hour  \\\n",
       "Total_Stops           1.000000  0.603776 -0.009206  0.054603      -0.061511   \n",
       "Price                 0.603776  1.000000 -0.153619 -0.103431       0.006718   \n",
       "Date                 -0.009206 -0.153619  1.000000 -0.038505       0.002271   \n",
       "Month                 0.054603 -0.103431 -0.038505  1.000000       0.039201   \n",
       "Dep_Time_Hour        -0.061511  0.006718  0.002271  0.039201       1.000000   \n",
       "Dep_Time_Min         -0.002966 -0.024726 -0.008149 -0.059062      -0.024887   \n",
       "Arrival_date          0.018008 -0.134527  0.997449 -0.034689       0.029013   \n",
       "Arrival_Time_Hour     0.038151  0.024203 -0.003160 -0.003889       0.005193   \n",
       "Arrival_Time_Min     -0.107266 -0.086489 -0.017362 -0.100399       0.067816   \n",
       "Travel_hours          0.833236  0.614039 -0.023833  0.036121      -0.013863   \n",
       "Travel_mins          -0.136580 -0.124673 -0.009112 -0.041076      -0.023669   \n",
       "Airline              -0.199061 -0.039318  0.026137  0.024474      -0.035125   \n",
       "Source                0.192593  0.015711  0.005043  0.183551       0.058954   \n",
       "Destination          -0.295651 -0.071304 -0.040914 -0.364596      -0.073045   \n",
       "Additional_Info      -0.067943 -0.063862 -0.012798 -0.045391      -0.048133   \n",
       "City1                 0.437797  0.195913  0.089654  0.212636      -0.070273   \n",
       "City2                 0.161587 -0.087404 -0.025021  0.048542      -0.126378   \n",
       "City3                -0.800594 -0.591567  0.022748 -0.083010       0.014851   \n",
       "\n",
       "                   Dep_Time_Min  Arrival_date  Arrival_Time_Hour  \\\n",
       "Total_Stops           -0.002966      0.018008           0.038151   \n",
       "Price                 -0.024726     -0.134527           0.024203   \n",
       "Date                  -0.008149      0.997449          -0.003160   \n",
       "Month                 -0.059062     -0.034689          -0.003889   \n",
       "Dep_Time_Hour         -0.024887      0.029013           0.005193   \n",
       "Dep_Time_Min           1.000000     -0.011256           0.043008   \n",
       "Arrival_date          -0.011256      1.000000          -0.033803   \n",
       "Arrival_Time_Hour      0.043008     -0.033803           1.000000   \n",
       "Arrival_Time_Min      -0.017833     -0.014590          -0.154453   \n",
       "Travel_hours          -0.035646      0.010403           0.072625   \n",
       "Travel_mins            0.092741     -0.009137          -0.118306   \n",
       "Airline               -0.059893      0.018772          -0.007446   \n",
       "Source                -0.057226      0.014608           0.025573   \n",
       "Destination            0.127775     -0.055461          -0.039751   \n",
       "Additional_Info       -0.026095     -0.020233           0.031119   \n",
       "City1                 -0.072621      0.101335           0.008003   \n",
       "City2                  0.091869     -0.025472          -0.012478   \n",
       "City3                  0.049052     -0.000736          -0.081905   \n",
       "\n",
       "                   Arrival_Time_Min  Travel_hours  Travel_mins   Airline  \\\n",
       "Total_Stops               -0.107266      0.833236    -0.136580 -0.199061   \n",
       "Price                     -0.086489      0.614039    -0.124673 -0.039318   \n",
       "Date                      -0.017362     -0.023833    -0.009112  0.026137   \n",
       "Month                     -0.100399      0.036121    -0.041076  0.024474   \n",
       "Dep_Time_Hour              0.067816     -0.013863    -0.023669 -0.035125   \n",
       "Dep_Time_Min              -0.017833     -0.035646     0.092741 -0.059893   \n",
       "Arrival_date              -0.014590      0.010403    -0.009137  0.018772   \n",
       "Arrival_Time_Hour         -0.154453      0.072625    -0.118306 -0.007446   \n",
       "Arrival_Time_Min           1.000000     -0.130773     0.151900 -0.070889   \n",
       "Travel_hours              -0.130773      1.000000    -0.177245 -0.123580   \n",
       "Travel_mins                0.151900     -0.177245     1.000000 -0.028255   \n",
       "Airline                   -0.070889     -0.123580    -0.028255  1.000000   \n",
       "Source                     0.020747      0.123579    -0.144996 -0.013198   \n",
       "Destination                0.017017     -0.342835     0.061359  0.018607   \n",
       "Additional_Info            0.039267     -0.162619     0.043806 -0.077741   \n",
       "City1                     -0.194262      0.402344    -0.237733  0.033673   \n",
       "City2                      0.045858     -0.022022     0.034808 -0.061792   \n",
       "City3                      0.159849     -0.845992     0.166220  0.060289   \n",
       "\n",
       "                     Source  Destination  Additional_Info     City1     City2  \\\n",
       "Total_Stops        0.192593    -0.295651        -0.067943  0.437797  0.161587   \n",
       "Price              0.015711    -0.071304        -0.063862  0.195913 -0.087404   \n",
       "Date               0.005043    -0.040914        -0.012798  0.089654 -0.025021   \n",
       "Month              0.183551    -0.364596        -0.045391  0.212636  0.048542   \n",
       "Dep_Time_Hour      0.058954    -0.073045        -0.048133 -0.070273 -0.126378   \n",
       "Dep_Time_Min      -0.057226     0.127775        -0.026095 -0.072621  0.091869   \n",
       "Arrival_date       0.014608    -0.055461        -0.020233  0.101335 -0.025472   \n",
       "Arrival_Time_Hour  0.025573    -0.039751         0.031119  0.008003 -0.012478   \n",
       "Arrival_Time_Min   0.020747     0.017017         0.039267 -0.194262  0.045858   \n",
       "Travel_hours       0.123579    -0.342835        -0.162619  0.402344 -0.022022   \n",
       "Travel_mins       -0.144996     0.061359         0.043806 -0.237733  0.034808   \n",
       "Airline           -0.013198     0.018607        -0.077741  0.033673 -0.061792   \n",
       "Source             1.000000    -0.592862        -0.015940  0.315889  0.035756   \n",
       "Destination       -0.592862     1.000000         0.013040 -0.395101  0.077664   \n",
       "Additional_Info   -0.015940     0.013040         1.000000  0.027864  0.077008   \n",
       "City1              0.315889    -0.395101         0.027864  1.000000 -0.064973   \n",
       "City2              0.035756     0.077664         0.077008 -0.064973  1.000000   \n",
       "City3             -0.271377     0.410010         0.148063 -0.462621 -0.002803   \n",
       "\n",
       "                      City3  \n",
       "Total_Stops       -0.800594  \n",
       "Price             -0.591567  \n",
       "Date               0.022748  \n",
       "Month             -0.083010  \n",
       "Dep_Time_Hour      0.014851  \n",
       "Dep_Time_Min       0.049052  \n",
       "Arrival_date      -0.000736  \n",
       "Arrival_Time_Hour -0.081905  \n",
       "Arrival_Time_Min   0.159849  \n",
       "Travel_hours      -0.845992  \n",
       "Travel_mins        0.166220  \n",
       "Airline            0.060289  \n",
       "Source            -0.271377  \n",
       "Destination        0.410010  \n",
       "Additional_Info    0.148063  \n",
       "City1             -0.462621  \n",
       "City2             -0.002803  \n",
       "City3              1.000000  "
      ]
     },
     "execution_count": 63,
     "metadata": {},
     "output_type": "execute_result"
    }
   ],
   "source": [
    "data.corr()"
   ]
  },
  {
   "cell_type": "code",
   "execution_count": 1,
   "id": "fc555e82",
   "metadata": {},
   "outputs": [
    {
     "ename": "NameError",
     "evalue": "name 'plt' is not defined",
     "output_type": "error",
     "traceback": [
      "\u001b[1;31m---------------------------------------------------------------------------\u001b[0m",
      "\u001b[1;31mNameError\u001b[0m                                 Traceback (most recent call last)",
      "\u001b[1;32m<ipython-input-1-1c0b3e8383bc>\u001b[0m in \u001b[0;36m<module>\u001b[1;34m\u001b[0m\n\u001b[0;32m      1\u001b[0m \u001b[1;31m#checking the columns which are positively and negatively correlated with the target column\u001b[0m\u001b[1;33m\u001b[0m\u001b[1;33m\u001b[0m\u001b[1;33m\u001b[0m\u001b[0m\n\u001b[1;32m----> 2\u001b[1;33m \u001b[0mplt\u001b[0m\u001b[1;33m.\u001b[0m\u001b[0mfigure\u001b[0m\u001b[1;33m(\u001b[0m\u001b[0mfigsize\u001b[0m\u001b[1;33m=\u001b[0m\u001b[1;33m(\u001b[0m\u001b[1;36m22\u001b[0m\u001b[1;33m,\u001b[0m\u001b[1;36m7\u001b[0m\u001b[1;33m)\u001b[0m\u001b[1;33m)\u001b[0m\u001b[1;33m\u001b[0m\u001b[1;33m\u001b[0m\u001b[0m\n\u001b[0m\u001b[0;32m      3\u001b[0m \u001b[1;31m#data.corr()['Price'].sort_values(ascending=False).drop(['Price']).plot(kind='bar',color='c')\u001b[0m\u001b[1;33m\u001b[0m\u001b[1;33m\u001b[0m\u001b[1;33m\u001b[0m\u001b[0m\n\u001b[0;32m      4\u001b[0m \u001b[0mplt\u001b[0m\u001b[1;33m.\u001b[0m\u001b[0mxlabel\u001b[0m\u001b[1;33m(\u001b[0m\u001b[1;34m'feature'\u001b[0m\u001b[1;33m,\u001b[0m\u001b[0mfontsize\u001b[0m\u001b[1;33m=\u001b[0m\u001b[1;36m14\u001b[0m\u001b[1;33m)\u001b[0m\u001b[1;33m\u001b[0m\u001b[1;33m\u001b[0m\u001b[0m\n\u001b[0;32m      5\u001b[0m \u001b[0mplt\u001b[0m\u001b[1;33m.\u001b[0m\u001b[0mylabel\u001b[0m\u001b[1;33m(\u001b[0m\u001b[1;34m'column with target names'\u001b[0m\u001b[1;33m,\u001b[0m\u001b[0mfontsize\u001b[0m\u001b[1;33m=\u001b[0m\u001b[1;36m14\u001b[0m\u001b[1;33m)\u001b[0m\u001b[1;33m\u001b[0m\u001b[1;33m\u001b[0m\u001b[0m\n",
      "\u001b[1;31mNameError\u001b[0m: name 'plt' is not defined"
     ]
    }
   ],
   "source": [
    "#checking the columns which are positively and negatively correlated with the target column\n",
    "plt.figure(figsize=(22,7))\n",
    "data.corr()['Price'].sort_values(ascending=False).drop(['Price']).plot(kind='bar',color='c')\n",
    "plt.xlabel('feature',fontsize=14)\n",
    "plt.ylabel('column with target names',fontsize=14)\n",
    "plt.title('correlation',fontsize=18)\n",
    "plt.show()"
   ]
  },
  {
   "cell_type": "code",
   "execution_count": 65,
   "id": "8811ccf9",
   "metadata": {},
   "outputs": [],
   "source": [
    "from sklearn.preprocessing import LabelEncoder,StandardScaler"
   ]
  },
  {
   "cell_type": "code",
   "execution_count": 66,
   "id": "ef435fcc",
   "metadata": {},
   "outputs": [],
   "source": [
    "#devide data set into feature and label\n",
    "y=data['Price']\n",
    "x=data.drop(['Price'],axis=1)"
   ]
  },
  {
   "cell_type": "code",
   "execution_count": 67,
   "id": "e56762c4",
   "metadata": {},
   "outputs": [],
   "source": [
    "#Standardize the value of x so that mean will 0 and SD will become 1 , and make the data as normal distributed\n",
    "sc = StandardScaler()\n",
    "sc.fit_transform(x)\n",
    "x = pd.DataFrame(x,columns=x.columns)"
   ]
  },
  {
   "cell_type": "code",
   "execution_count": 68,
   "id": "ea6afa39",
   "metadata": {},
   "outputs": [],
   "source": [
    "from sklearn.metrics import r2_score,mean_absolute_error,mean_squared_error\n",
    "from sklearn.linear_model import LogisticRegression,Lasso,LinearRegression\n",
    "from sklearn.neighbors import KNeighborsRegressor\n",
    "from sklearn.svm import SVR\n",
    "from sklearn.tree import DecisionTreeRegressor\n",
    "from sklearn.ensemble import AdaBoostRegressor,GradientBoostingRegressor\n",
    "from sklearn.preprocessing import LabelEncoder,StandardScaler\n",
    "from sklearn.model_selection import train_test_split,GridSearchCV\n",
    "from sklearn.decomposition import PCA\n",
    "from scipy.stats import zscore\n",
    "from sklearn.model_selection import cross_val_score"
   ]
  },
  {
   "cell_type": "code",
   "execution_count": 71,
   "id": "36dd55ec",
   "metadata": {
    "scrolled": false
   },
   "outputs": [
    {
     "name": "stdout",
     "output_type": "stream",
     "text": [
      "R2 score correspond to random state  0 is 0.7565201676441533\n",
      "R2 score correspond to random state  0 is 0.5859495608097537\n",
      "R2 score correspond to random state  0 is 0.017083517862649722\n",
      "R2 score correspond to random state  0 is 0.48830824158733055\n",
      "R2 score correspond to random state  0 is 0.7803888518105803\n",
      "R2 score correspond to random state  1 is 0.8045801024850422\n",
      "R2 score correspond to random state  1 is 0.626052838682385\n",
      "R2 score correspond to random state  1 is 0.2623134774984702\n",
      "R2 score correspond to random state  1 is 0.5245374549999047\n",
      "R2 score correspond to random state  1 is 0.8213202976348216\n",
      "R2 score correspond to random state  2 is 0.7961577591249105\n",
      "R2 score correspond to random state  2 is 0.6082799144138796\n",
      "R2 score correspond to random state  2 is 0.25129832053333234\n",
      "R2 score correspond to random state  2 is 0.5065683477292249\n",
      "R2 score correspond to random state  2 is 0.8497710527337722\n",
      "R2 score correspond to random state  3 is 0.8055344940895109\n",
      "R2 score correspond to random state  3 is 0.6363192426315246\n",
      "R2 score correspond to random state  3 is 0.245189137625755\n",
      "R2 score correspond to random state  3 is 0.51747430259331\n",
      "R2 score correspond to random state  3 is 0.8314874177136757\n",
      "R2 score correspond to random state  4 is 0.8409357749627957\n",
      "R2 score correspond to random state  4 is 0.6458213913887468\n",
      "R2 score correspond to random state  4 is 0.3371130742156778\n",
      "R2 score correspond to random state  4 is 0.48614649831324497\n",
      "R2 score correspond to random state  4 is 0.8429814327663765\n",
      "R2 score correspond to random state  5 is 0.8531902606160179\n",
      "R2 score correspond to random state  5 is 0.6234668869163823\n",
      "R2 score correspond to random state  5 is 0.39381013616665794\n",
      "R2 score correspond to random state  5 is 0.4955926697011195\n",
      "R2 score correspond to random state  5 is 0.8221101168297232\n",
      "R2 score correspond to random state  6 is 0.8270977708672935\n",
      "R2 score correspond to random state  6 is 0.6337719255694526\n",
      "R2 score correspond to random state  6 is 0.33621909002874495\n",
      "R2 score correspond to random state  6 is 0.5030065290979038\n",
      "R2 score correspond to random state  6 is 0.8213693756847146\n",
      "R2 score correspond to random state  7 is 0.8176465415677432\n",
      "R2 score correspond to random state  7 is 0.6823956980657576\n",
      "R2 score correspond to random state  7 is 0.328568143684116\n",
      "R2 score correspond to random state  7 is 0.5180516682548453\n",
      "R2 score correspond to random state  7 is 0.8646263431108784\n",
      "R2 score correspond to random state  8 is 0.767516645858407\n",
      "R2 score correspond to random state  8 is 0.6140952052161704\n",
      "R2 score correspond to random state  8 is 0.20556952982643817\n",
      "R2 score correspond to random state  8 is 0.4728429275960069\n",
      "R2 score correspond to random state  8 is 0.8388583387741986\n",
      "R2 score correspond to random state  9 is 0.8018128683034065\n",
      "R2 score correspond to random state  9 is 0.6507068643259752\n",
      "R2 score correspond to random state  9 is 0.15367766987714426\n",
      "R2 score correspond to random state  9 is 0.5446085353657074\n",
      "R2 score correspond to random state  9 is 0.8339986030258808\n",
      "R2 score correspond to random state  10 is 0.8342294649973755\n",
      "R2 score correspond to random state  10 is 0.620310879451995\n",
      "R2 score correspond to random state  10 is -0.15517413959542914\n",
      "R2 score correspond to random state  10 is 0.5024544690529203\n",
      "R2 score correspond to random state  10 is 0.7824212634947735\n",
      "R2 score correspond to random state  11 is 0.7988338071939\n",
      "R2 score correspond to random state  11 is 0.6283096330486161\n",
      "R2 score correspond to random state  11 is 0.3227879045403944\n",
      "R2 score correspond to random state  11 is 0.4901925015145002\n",
      "R2 score correspond to random state  11 is 0.8031372570604716\n",
      "R2 score correspond to random state  12 is 0.7320111645374038\n",
      "R2 score correspond to random state  12 is 0.6051324601753261\n",
      "R2 score correspond to random state  12 is 0.4121210342341617\n",
      "R2 score correspond to random state  12 is 0.48385869655023284\n",
      "R2 score correspond to random state  12 is 0.7824383320554792\n",
      "R2 score correspond to random state  13 is 0.8442280219249065\n",
      "R2 score correspond to random state  13 is 0.6134972443848556\n",
      "R2 score correspond to random state  13 is 0.3485194757811195\n",
      "R2 score correspond to random state  13 is 0.48649722464062795\n",
      "R2 score correspond to random state  13 is 0.8528545664068924\n",
      "R2 score correspond to random state  14 is 0.8726339676431893\n",
      "R2 score correspond to random state  14 is 0.6421359603760329\n",
      "R2 score correspond to random state  14 is 0.3324834950318152\n",
      "R2 score correspond to random state  14 is 0.4808798611894681\n",
      "R2 score correspond to random state  14 is 0.8286324350995076\n",
      "R2 score correspond to random state  15 is 0.7517059344669723\n",
      "R2 score correspond to random state  15 is 0.6082869000871308\n",
      "R2 score correspond to random state  15 is 0.43281289038093074\n",
      "R2 score correspond to random state  15 is 0.48538402807098524\n",
      "R2 score correspond to random state  15 is 0.7941183818288555\n",
      "R2 score correspond to random state  16 is 0.7678373419457125\n",
      "R2 score correspond to random state  16 is 0.6324701173264555\n",
      "R2 score correspond to random state  16 is 0.17835010952186425\n",
      "R2 score correspond to random state  16 is 0.5124194193066678\n",
      "R2 score correspond to random state  16 is 0.7899430004091614\n",
      "R2 score correspond to random state  17 is 0.7404560457177958\n",
      "R2 score correspond to random state  17 is 0.6210035713505628\n",
      "R2 score correspond to random state  17 is 0.12409842275179461\n",
      "R2 score correspond to random state  17 is 0.47831454990126676\n",
      "R2 score correspond to random state  17 is 0.8261652466363976\n",
      "R2 score correspond to random state  18 is 0.8535598477611783\n",
      "R2 score correspond to random state  18 is 0.6679623536797806\n",
      "R2 score correspond to random state  18 is 0.37429064029001236\n",
      "R2 score correspond to random state  18 is 0.5005465847198054\n",
      "R2 score correspond to random state  18 is 0.8484120413072491\n",
      "R2 score correspond to random state  19 is 0.8596573124453524\n",
      "R2 score correspond to random state  19 is 0.5991470667873613\n",
      "R2 score correspond to random state  19 is 0.43784120153611994\n",
      "R2 score correspond to random state  19 is 0.4891643886671597\n",
      "R2 score correspond to random state  19 is 0.8259660457336673\n",
      "R2 score correspond to random state  20 is 0.8243912418773895\n",
      "R2 score correspond to random state  20 is 0.6366046122329534\n",
      "R2 score correspond to random state  20 is 0.16722952170124739\n",
      "R2 score correspond to random state  20 is 0.48310141414812435\n",
      "R2 score correspond to random state  20 is 0.8574233399016743\n",
      "R2 score correspond to random state  21 is 0.8484874287920205\n",
      "R2 score correspond to random state  21 is 0.6014602102248414\n",
      "R2 score correspond to random state  21 is 0.13675748622813744\n",
      "R2 score correspond to random state  21 is 0.5081178381409723\n",
      "R2 score correspond to random state  21 is 0.8038594928026404\n",
      "R2 score correspond to random state  22 is 0.8222017704166706\n",
      "R2 score correspond to random state  22 is 0.6255642033514788\n",
      "R2 score correspond to random state  22 is 0.18780824552083697\n",
      "R2 score correspond to random state  22 is 0.5340519549864502\n",
      "R2 score correspond to random state  22 is 0.8306321918142674\n",
      "R2 score correspond to random state  23 is 0.8497448099478462\n",
      "R2 score correspond to random state  23 is 0.6314588761476134\n",
      "R2 score correspond to random state  23 is 0.2534410442825703\n",
      "R2 score correspond to random state  23 is 0.5328007073086793\n",
      "R2 score correspond to random state  23 is 0.8274831349873449\n",
      "R2 score correspond to random state  24 is 0.8392251837909415\n",
      "R2 score correspond to random state  24 is 0.5860256177350889\n",
      "R2 score correspond to random state  24 is 0.22778215137297297\n",
      "R2 score correspond to random state  24 is 0.4990797234316513\n",
      "R2 score correspond to random state  24 is 0.8087192194277664\n",
      "R2 score correspond to random state  25 is 0.7907272164327814\n",
      "R2 score correspond to random state  25 is 0.6228219313074224\n",
      "R2 score correspond to random state  25 is 0.4002898171719893\n",
      "R2 score correspond to random state  25 is 0.4800516284945531\n",
      "R2 score correspond to random state  25 is 0.8289212715774472\n",
      "R2 score correspond to random state  26 is 0.813454997394595\n",
      "R2 score correspond to random state  26 is 0.6344762864540641\n",
      "R2 score correspond to random state  26 is 0.3019354135067749\n",
      "R2 score correspond to random state  26 is 0.454459893017071\n",
      "R2 score correspond to random state  26 is 0.8429585828606069\n",
      "R2 score correspond to random state  27 is 0.810721593202687\n",
      "R2 score correspond to random state  27 is 0.6029691212936512\n",
      "R2 score correspond to random state  27 is 0.23985929230798542\n",
      "R2 score correspond to random state  27 is 0.5082038393472834\n",
      "R2 score correspond to random state  27 is 0.789528401792992\n",
      "R2 score correspond to random state  28 is 0.8128571080626725\n",
      "R2 score correspond to random state  28 is 0.6069456900680787\n",
      "R2 score correspond to random state  28 is 0.19277509111332536\n",
      "R2 score correspond to random state  28 is 0.4931553295070277\n",
      "R2 score correspond to random state  28 is 0.8090320173178658\n",
      "R2 score correspond to random state  29 is 0.719061200345591\n",
      "R2 score correspond to random state  29 is 0.6298390578482769\n",
      "R2 score correspond to random state  29 is 0.3821032075158577\n",
      "R2 score correspond to random state  29 is 0.509303715809434\n",
      "R2 score correspond to random state  29 is 0.7880822418327764\n",
      "R2 score correspond to random state  30 is 0.840278190689652\n",
      "R2 score correspond to random state  30 is 0.6398284899543347\n",
      "R2 score correspond to random state  30 is 0.3357485095446425\n",
      "R2 score correspond to random state  30 is 0.5017755662648009\n",
      "R2 score correspond to random state  30 is 0.8141670828962004\n",
      "R2 score correspond to random state  31 is 0.8282870399975226\n",
      "R2 score correspond to random state  31 is 0.6331652576318711\n",
      "R2 score correspond to random state  31 is -0.08634299507997611\n",
      "R2 score correspond to random state  31 is 0.5378331672873855\n",
      "R2 score correspond to random state  31 is 0.8381148359681213\n",
      "R2 score correspond to random state  32 is 0.806258366142146\n",
      "R2 score correspond to random state  32 is 0.6604541387572164\n",
      "R2 score correspond to random state  32 is -0.01554880414808002\n",
      "R2 score correspond to random state  32 is 0.5330391411231215\n",
      "R2 score correspond to random state  32 is 0.843215094779264\n",
      "R2 score correspond to random state  33 is 0.8680898092420141\n",
      "R2 score correspond to random state  33 is 0.6478829585766892\n",
      "R2 score correspond to random state  33 is 0.0019861695197704865\n",
      "R2 score correspond to random state  33 is 0.5268532080004713\n",
      "R2 score correspond to random state  33 is 0.8263535248087372\n",
      "R2 score correspond to random state  34 is 0.8121938357032628\n",
      "R2 score correspond to random state  34 is 0.6386555013137185\n",
      "R2 score correspond to random state  34 is 0.29226569738059605\n",
      "R2 score correspond to random state  34 is 0.47602396863709207\n",
      "R2 score correspond to random state  34 is 0.8079541873854647\n",
      "R2 score correspond to random state  35 is 0.8388222172856699\n",
      "R2 score correspond to random state  35 is 0.5987186487055742\n",
      "R2 score correspond to random state  35 is 0.23582176940874255\n",
      "R2 score correspond to random state  35 is 0.49594198475741325\n",
      "R2 score correspond to random state  35 is 0.8282529676893546\n",
      "R2 score correspond to random state  36 is 0.7372005328223703\n",
      "R2 score correspond to random state  36 is 0.5610479735032348\n",
      "R2 score correspond to random state  36 is 0.31658913522472076\n",
      "R2 score correspond to random state  36 is 0.4878135533676591\n",
      "R2 score correspond to random state  36 is 0.8078843609772774\n",
      "R2 score correspond to random state  37 is 0.696998596487723\n",
      "R2 score correspond to random state  37 is 0.6367055842499769\n",
      "R2 score correspond to random state  37 is 0.3038318161773714\n",
      "R2 score correspond to random state  37 is 0.5043656601936761\n",
      "R2 score correspond to random state  37 is 0.809469316322991\n",
      "R2 score correspond to random state  38 is 0.806169516184126\n",
      "R2 score correspond to random state  38 is 0.6538040955194209\n",
      "R2 score correspond to random state  38 is 0.15749374034052055\n",
      "R2 score correspond to random state  38 is 0.5377369407414763\n",
      "R2 score correspond to random state  38 is 0.8314843108640393\n",
      "R2 score correspond to random state  39 is 0.808464124815047\n",
      "R2 score correspond to random state  39 is 0.6144870120956222\n",
      "R2 score correspond to random state  39 is 0.35985235643634794\n",
      "R2 score correspond to random state  39 is 0.4845416079957493\n",
      "R2 score correspond to random state  39 is 0.8185929507561523\n",
      "R2 score correspond to random state  40 is 0.7115623924917349\n",
      "R2 score correspond to random state  40 is 0.6165050559717302\n",
      "R2 score correspond to random state  40 is 0.2452658368517886\n",
      "R2 score correspond to random state  40 is 0.46564093619538005\n",
      "R2 score correspond to random state  40 is 0.8115999395488873\n",
      "R2 score correspond to random state  41 is 0.7740947849014899\n",
      "R2 score correspond to random state  41 is 0.5884588194165425\n",
      "R2 score correspond to random state  41 is 0.32164057611015295\n",
      "R2 score correspond to random state  41 is 0.4821276009101504\n",
      "R2 score correspond to random state  41 is 0.7633619295558627\n",
      "R2 score correspond to random state  42 is 0.8046255508540399\n",
      "R2 score correspond to random state  42 is 0.6300325954865729\n",
      "R2 score correspond to random state  42 is 0.2963988129158721\n",
      "R2 score correspond to random state  42 is 0.5097419428499834\n",
      "R2 score correspond to random state  42 is 0.858779618792127\n",
      "R2 score correspond to random state  43 is 0.7648501946974942\n",
      "R2 score correspond to random state  43 is 0.6394681786251828\n",
      "R2 score correspond to random state  43 is 0.3330846430097143\n",
      "R2 score correspond to random state  43 is 0.4643007300077199\n",
      "R2 score correspond to random state  43 is 0.8506125476592787\n",
      "R2 score correspond to random state  44 is 0.8004213614726357\n",
      "R2 score correspond to random state  44 is 0.6009985402017738\n",
      "R2 score correspond to random state  44 is 0.20528013460765215\n",
      "R2 score correspond to random state  44 is 0.4655564843358291\n",
      "R2 score correspond to random state  44 is 0.8520584519881749\n",
      "R2 score correspond to random state  45 is 0.8002310508892642\n",
      "R2 score correspond to random state  45 is 0.5869180990773923\n",
      "R2 score correspond to random state  45 is -0.008033987474445947\n",
      "R2 score correspond to random state  45 is 0.4739449102506246\n",
      "R2 score correspond to random state  45 is 0.7638529849998574\n",
      "R2 score correspond to random state  46 is 0.7729723766544434\n",
      "R2 score correspond to random state  46 is 0.6280553821748704\n",
      "R2 score correspond to random state  46 is 0.29770182974280357\n",
      "R2 score correspond to random state  46 is 0.5232703163762589\n",
      "R2 score correspond to random state  46 is 0.8208912635292797\n",
      "R2 score correspond to random state  47 is 0.8265577190914756\n",
      "R2 score correspond to random state  47 is 0.6209094172780658\n",
      "R2 score correspond to random state  47 is 0.26213602146020265\n",
      "R2 score correspond to random state  47 is 0.5126014092660345\n",
      "R2 score correspond to random state  47 is 0.8017854919792905\n",
      "R2 score correspond to random state  48 is 0.7434378974182361\n",
      "R2 score correspond to random state  48 is 0.6143208727383638\n",
      "R2 score correspond to random state  48 is 0.3454075260803289\n",
      "R2 score correspond to random state  48 is 0.48193106462996704\n",
      "R2 score correspond to random state  48 is 0.7994840109845649\n",
      "R2 score correspond to random state  49 is 0.8798180498767498\n",
      "R2 score correspond to random state  49 is 0.6909404473055546\n",
      "R2 score correspond to random state  49 is 0.044229882547943467\n",
      "R2 score correspond to random state  49 is 0.5283668540477018\n",
      "R2 score correspond to random state  49 is 0.8513280365871709\n",
      "R2 score correspond to random state  50 is 0.7916120553704706\n",
      "R2 score correspond to random state  50 is 0.6202401770620517\n",
      "R2 score correspond to random state  50 is 0.27225896955198414\n",
      "R2 score correspond to random state  50 is 0.5134796353705371\n",
      "R2 score correspond to random state  50 is 0.7960227964660395\n",
      "R2 score correspond to random state  51 is 0.8641323520178655\n",
      "R2 score correspond to random state  51 is 0.6524217947531344\n",
      "R2 score correspond to random state  51 is 0.208839357476167\n",
      "R2 score correspond to random state  51 is 0.5371545219292317\n",
      "R2 score correspond to random state  51 is 0.8550081148820212\n",
      "R2 score correspond to random state  52 is 0.8325241069701017\n",
      "R2 score correspond to random state  52 is 0.639225133046491\n",
      "R2 score correspond to random state  52 is 0.07827737253642364\n",
      "R2 score correspond to random state  52 is 0.5088958325797006\n",
      "R2 score correspond to random state  52 is 0.8047359121314441\n",
      "R2 score correspond to random state  53 is 0.8287323134761633\n",
      "R2 score correspond to random state  53 is 0.6542774743305022\n",
      "R2 score correspond to random state  53 is 0.31809097298413247\n",
      "R2 score correspond to random state  53 is 0.5095654770352718\n",
      "R2 score correspond to random state  53 is 0.8311652622917797\n",
      "R2 score correspond to random state  54 is 0.8622530794029932\n",
      "R2 score correspond to random state  54 is 0.653131648540412\n",
      "R2 score correspond to random state  54 is 0.27356604939298024\n",
      "R2 score correspond to random state  54 is 0.5318307275845101\n",
      "R2 score correspond to random state  54 is 0.8406645073591422\n",
      "R2 score correspond to random state  55 is 0.7071931989892974\n",
      "R2 score correspond to random state  55 is 0.5940534746054036\n",
      "R2 score correspond to random state  55 is 0.19855382453905224\n",
      "R2 score correspond to random state  55 is 0.4928468697279609\n",
      "R2 score correspond to random state  55 is 0.7584749113642524\n",
      "R2 score correspond to random state  56 is 0.8032697476513335\n",
      "R2 score correspond to random state  56 is 0.6302838319596873\n",
      "R2 score correspond to random state  56 is 0.49996501013348393\n",
      "R2 score correspond to random state  56 is 0.48126359356066717\n",
      "R2 score correspond to random state  56 is 0.8040725173595408\n",
      "R2 score correspond to random state  57 is 0.7892850092811197\n",
      "R2 score correspond to random state  57 is 0.6395977217686935\n",
      "R2 score correspond to random state  57 is 0.29918283944462765\n",
      "R2 score correspond to random state  57 is 0.48270310076875667\n",
      "R2 score correspond to random state  57 is 0.8330581080840009\n",
      "R2 score correspond to random state  58 is 0.8223317905012241\n",
      "R2 score correspond to random state  58 is 0.6458297039503637\n",
      "R2 score correspond to random state  58 is 0.40606265536307906\n",
      "R2 score correspond to random state  58 is 0.5017491066662527\n",
      "R2 score correspond to random state  58 is 0.859025255461203\n",
      "R2 score correspond to random state  59 is 0.8132560397254843\n",
      "R2 score correspond to random state  59 is 0.6278736962279485\n",
      "R2 score correspond to random state  59 is 0.36003681105005103\n",
      "R2 score correspond to random state  59 is 0.5118843967968043\n",
      "R2 score correspond to random state  59 is 0.8212647206423321\n",
      "R2 score correspond to random state  60 is 0.7580214242465808\n",
      "R2 score correspond to random state  60 is 0.6250058543833303\n",
      "R2 score correspond to random state  60 is 0.0700468528706758\n",
      "R2 score correspond to random state  60 is 0.4887013893167024\n",
      "R2 score correspond to random state  60 is 0.8254591051150864\n",
      "R2 score correspond to random state  61 is 0.8277538067465805\n",
      "R2 score correspond to random state  61 is 0.6129452709511879\n",
      "R2 score correspond to random state  61 is 0.1771644049970884\n",
      "R2 score correspond to random state  61 is 0.48982997499757686\n",
      "R2 score correspond to random state  61 is 0.8006169967417789\n",
      "R2 score correspond to random state  62 is 0.828031003707451\n",
      "R2 score correspond to random state  62 is 0.6290764691588421\n",
      "R2 score correspond to random state  62 is 0.23802896741307855\n",
      "R2 score correspond to random state  62 is 0.48928128347028266\n",
      "R2 score correspond to random state  62 is 0.8573839200186871\n",
      "R2 score correspond to random state  63 is 0.7900257519622274\n",
      "R2 score correspond to random state  63 is 0.5363029295703099\n",
      "R2 score correspond to random state  63 is 0.018655392930322923\n",
      "R2 score correspond to random state  63 is 0.47859607592647324\n",
      "R2 score correspond to random state  63 is 0.76412422215525\n",
      "R2 score correspond to random state  64 is 0.8294161271632292\n",
      "R2 score correspond to random state  64 is 0.655046641413555\n",
      "R2 score correspond to random state  64 is 0.19669441558316403\n",
      "R2 score correspond to random state  64 is 0.5403844115493839\n",
      "R2 score correspond to random state  64 is 0.8325910848633696\n",
      "R2 score correspond to random state  65 is 0.7769482837063226\n",
      "R2 score correspond to random state  65 is 0.5775131743528387\n",
      "R2 score correspond to random state  65 is 0.4454133009019914\n",
      "R2 score correspond to random state  65 is 0.48051000857078685\n",
      "R2 score correspond to random state  65 is 0.8263157093021667\n",
      "R2 score correspond to random state  66 is 0.7897334444449292\n",
      "R2 score correspond to random state  66 is 0.6142515887214927\n",
      "R2 score correspond to random state  66 is 0.41531502886839067\n",
      "R2 score correspond to random state  66 is 0.4836527746273438\n",
      "R2 score correspond to random state  66 is 0.7763851361141049\n",
      "R2 score correspond to random state  67 is 0.8272744204242956\n",
      "R2 score correspond to random state  67 is 0.6257850313578965\n",
      "R2 score correspond to random state  67 is 0.37180823575287236\n",
      "R2 score correspond to random state  67 is 0.511786126821517\n",
      "R2 score correspond to random state  67 is 0.8276541893099946\n",
      "R2 score correspond to random state  68 is 0.8564255839597739\n",
      "R2 score correspond to random state  68 is 0.6152620044201809\n",
      "R2 score correspond to random state  68 is 0.22978607491305314\n",
      "R2 score correspond to random state  68 is 0.5088923256860469\n",
      "R2 score correspond to random state  68 is 0.8452840444147509\n",
      "R2 score correspond to random state  69 is 0.8395254951134292\n",
      "R2 score correspond to random state  69 is 0.6506314514916247\n",
      "R2 score correspond to random state  69 is 0.21219786250114103\n",
      "R2 score correspond to random state  69 is 0.5325704919195178\n",
      "R2 score correspond to random state  69 is 0.8431095625878288\n",
      "R2 score correspond to random state  70 is 0.8766884013004796\n",
      "R2 score correspond to random state  70 is 0.5987101229407037\n",
      "R2 score correspond to random state  70 is 0.4540234873567839\n",
      "R2 score correspond to random state  70 is 0.4336162074784097\n",
      "R2 score correspond to random state  70 is 0.7890904674326031\n",
      "R2 score correspond to random state  71 is 0.8128216302436861\n",
      "R2 score correspond to random state  71 is 0.605332960285617\n",
      "R2 score correspond to random state  71 is 0.28946601207993694\n",
      "R2 score correspond to random state  71 is 0.487703720166778\n",
      "R2 score correspond to random state  71 is 0.8332657786991956\n",
      "R2 score correspond to random state  72 is 0.8036190816333906\n",
      "R2 score correspond to random state  72 is 0.567463414288421\n",
      "R2 score correspond to random state  72 is 0.2919775776429939\n",
      "R2 score correspond to random state  72 is 0.5158939523536259\n",
      "R2 score correspond to random state  72 is 0.7922331632677788\n",
      "R2 score correspond to random state  73 is 0.8512291348368867\n",
      "R2 score correspond to random state  73 is 0.6487957995379582\n",
      "R2 score correspond to random state  73 is 0.3538062369865085\n",
      "R2 score correspond to random state  73 is 0.5054622797554404\n",
      "R2 score correspond to random state  73 is 0.832821171762598\n",
      "R2 score correspond to random state  74 is 0.8230121572371006\n",
      "R2 score correspond to random state  74 is 0.6119416234799675\n",
      "R2 score correspond to random state  74 is 0.28177700889924817\n",
      "R2 score correspond to random state  74 is 0.4651471709717352\n",
      "R2 score correspond to random state  74 is 0.8298596627375177\n",
      "R2 score correspond to random state  75 is 0.7141415556950643\n",
      "R2 score correspond to random state  75 is 0.643372179053824\n",
      "R2 score correspond to random state  75 is 0.3746825753329138\n",
      "R2 score correspond to random state  75 is 0.4756332861666047\n",
      "R2 score correspond to random state  75 is 0.8502838057676328\n",
      "R2 score correspond to random state  76 is 0.7185802301427456\n",
      "R2 score correspond to random state  76 is 0.6382357300033686\n",
      "R2 score correspond to random state  76 is 0.21431374239161738\n",
      "R2 score correspond to random state  76 is 0.5079961584941622\n",
      "R2 score correspond to random state  76 is 0.8446517468037255\n",
      "R2 score correspond to random state  77 is 0.8875102640018068\n",
      "R2 score correspond to random state  77 is 0.6684061784975037\n",
      "R2 score correspond to random state  77 is 0.14967118570953786\n",
      "R2 score correspond to random state  77 is 0.5263412920458558\n",
      "R2 score correspond to random state  77 is 0.836028340305088\n",
      "R2 score correspond to random state  78 is 0.7615050020936285\n",
      "R2 score correspond to random state  78 is 0.6126572849593177\n",
      "R2 score correspond to random state  78 is 0.43950233567670094\n",
      "R2 score correspond to random state  78 is 0.48579599421530706\n",
      "R2 score correspond to random state  78 is 0.8364919355494314\n",
      "R2 score correspond to random state  79 is 0.8124135964452368\n",
      "R2 score correspond to random state  79 is 0.6318413825485971\n",
      "R2 score correspond to random state  79 is 0.34633908957118087\n",
      "R2 score correspond to random state  79 is 0.4890999568752168\n",
      "R2 score correspond to random state  79 is 0.8553884626209324\n",
      "R2 score correspond to random state  80 is 0.7636631271905495\n",
      "R2 score correspond to random state  80 is 0.6210419056244366\n",
      "R2 score correspond to random state  80 is 0.33690285995506797\n",
      "R2 score correspond to random state  80 is 0.5023426330802885\n",
      "R2 score correspond to random state  80 is 0.8198996251698122\n",
      "R2 score correspond to random state  81 is 0.8418849898283086\n",
      "R2 score correspond to random state  81 is 0.6222020551838306\n",
      "R2 score correspond to random state  81 is 0.4070262184392758\n",
      "R2 score correspond to random state  81 is 0.5241171881702886\n",
      "R2 score correspond to random state  81 is 0.8287608024741838\n",
      "R2 score correspond to random state  82 is 0.7157790072716801\n",
      "R2 score correspond to random state  82 is 0.6214762727554739\n",
      "R2 score correspond to random state  82 is 0.47325444755229296\n",
      "R2 score correspond to random state  82 is 0.48059512104218305\n",
      "R2 score correspond to random state  82 is 0.8271081664357076\n",
      "R2 score correspond to random state  83 is 0.8051966455842489\n",
      "R2 score correspond to random state  83 is 0.6234023812899278\n",
      "R2 score correspond to random state  83 is 0.4571763834630639\n",
      "R2 score correspond to random state  83 is 0.4723134649859989\n",
      "R2 score correspond to random state  83 is 0.8163774672536206\n",
      "R2 score correspond to random state  84 is 0.8309142148046752\n",
      "R2 score correspond to random state  84 is 0.633030667247265\n",
      "R2 score correspond to random state  84 is 0.19375482436805158\n",
      "R2 score correspond to random state  84 is 0.5198808098359058\n",
      "R2 score correspond to random state  84 is 0.8235646116425945\n",
      "R2 score correspond to random state  85 is 0.797964006484539\n",
      "R2 score correspond to random state  85 is 0.6542045142925168\n",
      "R2 score correspond to random state  85 is 0.19099853503264885\n",
      "R2 score correspond to random state  85 is 0.523467198801518\n",
      "R2 score correspond to random state  85 is 0.8464232937129108\n",
      "R2 score correspond to random state  86 is 0.8104519490690394\n",
      "R2 score correspond to random state  86 is 0.5576517565690108\n",
      "R2 score correspond to random state  86 is 0.5259457413780702\n",
      "R2 score correspond to random state  86 is 0.4275018897061089\n",
      "R2 score correspond to random state  86 is 0.7887916402211039\n",
      "R2 score correspond to random state  87 is 0.8689939395910364\n",
      "R2 score correspond to random state  87 is 0.6514004288824053\n",
      "R2 score correspond to random state  87 is 0.29864715107744766\n",
      "R2 score correspond to random state  87 is 0.5204490488773834\n",
      "R2 score correspond to random state  87 is 0.8215869008125067\n",
      "R2 score correspond to random state  88 is 0.8087559909500741\n",
      "R2 score correspond to random state  88 is 0.642158667736737\n",
      "R2 score correspond to random state  88 is 0.4027412544906538\n",
      "R2 score correspond to random state  88 is 0.46796660966282977\n",
      "R2 score correspond to random state  88 is 0.8126175117776024\n",
      "R2 score correspond to random state  89 is 0.7775191255299145\n",
      "R2 score correspond to random state  89 is 0.6423389411142701\n",
      "R2 score correspond to random state  89 is 0.2821359353576446\n",
      "R2 score correspond to random state  89 is 0.4835561894325532\n",
      "R2 score correspond to random state  89 is 0.8206474943499296\n",
      "R2 score correspond to random state  90 is 0.7239931085158473\n",
      "R2 score correspond to random state  90 is 0.5872522135968437\n",
      "R2 score correspond to random state  90 is 0.3730355818981983\n",
      "R2 score correspond to random state  90 is 0.4717036209057853\n",
      "R2 score correspond to random state  90 is 0.7822128210646195\n",
      "R2 score correspond to random state  91 is 0.7403890251226042\n",
      "R2 score correspond to random state  91 is 0.5705836760399069\n",
      "R2 score correspond to random state  91 is 0.14409772521357922\n",
      "R2 score correspond to random state  91 is 0.4851107529731572\n",
      "R2 score correspond to random state  91 is 0.8466626747756436\n",
      "R2 score correspond to random state  92 is 0.8192375509368834\n",
      "R2 score correspond to random state  92 is 0.6097668344823154\n",
      "R2 score correspond to random state  92 is 0.48813696832495\n",
      "R2 score correspond to random state  92 is 0.5135443078482209\n",
      "R2 score correspond to random state  92 is 0.8021432593879521\n",
      "R2 score correspond to random state  93 is 0.8504256111470578\n",
      "R2 score correspond to random state  93 is 0.6291091546866054\n",
      "R2 score correspond to random state  93 is 0.27798584872225096\n",
      "R2 score correspond to random state  93 is 0.5161570248764837\n",
      "R2 score correspond to random state  93 is 0.8132306006823766\n",
      "R2 score correspond to random state  94 is 0.8851656950169281\n",
      "R2 score correspond to random state  94 is 0.6282066941519924\n",
      "R2 score correspond to random state  94 is 0.3185587384653984\n",
      "R2 score correspond to random state  94 is 0.46754412037100246\n",
      "R2 score correspond to random state  94 is 0.8424308804427239\n",
      "R2 score correspond to random state  95 is 0.8039848954739734\n",
      "R2 score correspond to random state  95 is 0.6331871631088584\n",
      "R2 score correspond to random state  95 is 0.16175523097304267\n",
      "R2 score correspond to random state  95 is 0.5121662278412074\n",
      "R2 score correspond to random state  95 is 0.8622130180420673\n",
      "R2 score correspond to random state  96 is 0.8240062610598733\n",
      "R2 score correspond to random state  96 is 0.6086026910859281\n",
      "R2 score correspond to random state  96 is 0.43141457007272244\n",
      "R2 score correspond to random state  96 is 0.46941112666116025\n",
      "R2 score correspond to random state  96 is 0.8240180548103619\n",
      "R2 score correspond to random state  97 is 0.8351779918680117\n",
      "R2 score correspond to random state  97 is 0.6248601712026365\n",
      "R2 score correspond to random state  97 is 0.39831521406831305\n",
      "R2 score correspond to random state  97 is 0.5276245989651946\n",
      "R2 score correspond to random state  97 is 0.8510205647274995\n",
      "R2 score correspond to random state  98 is 0.805253061682979\n",
      "R2 score correspond to random state  98 is 0.6439747427930893\n",
      "R2 score correspond to random state  98 is 0.3224327061941672\n",
      "R2 score correspond to random state  98 is 0.5382805161105092\n",
      "R2 score correspond to random state  98 is 0.8341550167580178\n",
      "R2 score correspond to random state  99 is 0.8447963711024525\n",
      "R2 score correspond to random state  99 is 0.6439120889987118\n",
      "R2 score correspond to random state  99 is 0.14631322690537363\n",
      "R2 score correspond to random state  99 is 0.5368695080365914\n",
      "R2 score correspond to random state  99 is 0.834784859087229\n",
      "\n",
      "\n",
      "\n",
      "\n",
      "max R2 score correspond to random state  77 is 0.8875102640018068 and model is DecisionTreeRegressor()\n"
     ]
    }
   ],
   "source": [
    "#Now by using multiple Algorithms we are calculating the best Algo which suit best for our data set \n",
    "\n",
    "model = [DecisionTreeRegressor(),KNeighborsRegressor(),AdaBoostRegressor(),LinearRegression(),GradientBoostingRegressor()]\n",
    "max_r2_score = 0\n",
    "for r_state in range(0,100):\n",
    "    train_x,test_x,train_y,test_y = train_test_split(x,y,random_state = r_state,test_size = 0.2)\n",
    "    for i in model:\n",
    "        i.fit(train_x,train_y)\n",
    "        pre = i.predict(test_x)\n",
    "        r2_sc = r2_score(test_y,pre)\n",
    "        print(\"R2 score correspond to random state \" ,r_state ,\"is\", r2_sc)\n",
    "        if r2_sc> max_r2_score:\n",
    "            max_r2_score=r2_sc\n",
    "            final_state = r_state\n",
    "            final_model = i\n",
    "            \n",
    "print()\n",
    "print()\n",
    "print()\n",
    "print()\n",
    "print(\"max R2 score correspond to random state \" ,final_state , \"is\" , max_r2_score ,\"and model is\",final_model)\n",
    "        "
   ]
  },
  {
   "cell_type": "code",
   "execution_count": 72,
   "id": "ea5895a2",
   "metadata": {},
   "outputs": [
    {
     "data": {
      "text/plain": [
       "array([[-1.22047697,  1.23728754, -1.46770673, ..., -1.51560675,\n",
       "         0.13720382,  1.39501469],\n",
       "       [ 1.741835  , -1.47530729,  0.25015261, ..., -0.29328049,\n",
       "         1.63489042, -1.08228   ],\n",
       "       [ 1.741835  , -0.53179604,  1.10908228, ...,  0.92904577,\n",
       "         2.50854095, -0.81685557],\n",
       "       ...,\n",
       "       [-1.22047697,  1.59110426, -0.60877706, ..., -1.51560675,\n",
       "         0.13720382,  1.39501469],\n",
       "       [-1.22047697, -1.47530729, -1.46770673, ..., -1.51560675,\n",
       "         0.13720382,  1.39501469],\n",
       "       [ 1.741835  , -0.53179604,  0.25015261, ...,  0.92904577,\n",
       "         0.51162547, -0.81685557]])"
      ]
     },
     "execution_count": 72,
     "metadata": {},
     "output_type": "execute_result"
    }
   ],
   "source": [
    "scalar=StandardScaler()\n",
    "x_scaled=scalar.fit_transform(x)\n",
    "x_scaled"
   ]
  },
  {
   "cell_type": "code",
   "execution_count": 73,
   "id": "1caf2b7e",
   "metadata": {},
   "outputs": [],
   "source": [
    "x_train,x_test,y_train,y_test=train_test_split(x_scaled,y,test_size=0.2,random_state=94)"
   ]
  },
  {
   "cell_type": "code",
   "execution_count": 74,
   "id": "5dd300c6",
   "metadata": {},
   "outputs": [],
   "source": [
    "dt=DecisionTreeRegressor()"
   ]
  },
  {
   "cell_type": "code",
   "execution_count": 75,
   "id": "615ceb4c",
   "metadata": {},
   "outputs": [
    {
     "data": {
      "text/plain": [
       "DecisionTreeRegressor()"
      ]
     },
     "execution_count": 75,
     "metadata": {},
     "output_type": "execute_result"
    }
   ],
   "source": [
    "dt.fit(x_train,y_train)"
   ]
  },
  {
   "cell_type": "code",
   "execution_count": 76,
   "id": "806ac05d",
   "metadata": {},
   "outputs": [
    {
     "name": "stdout",
     "output_type": "stream",
     "text": [
      "0.8967433411438777\n"
     ]
    }
   ],
   "source": [
    "pred_test=dt.predict(x_test)\n",
    "print(r2_score(y_test,pred_test))"
   ]
  },
  {
   "cell_type": "markdown",
   "id": "c2c061b9",
   "metadata": {},
   "source": [
    "# cross validation"
   ]
  },
  {
   "cell_type": "code",
   "execution_count": 77,
   "id": "63e28f87",
   "metadata": {},
   "outputs": [],
   "source": [
    "from sklearn.model_selection import cross_val_score\n"
   ]
  },
  {
   "cell_type": "code",
   "execution_count": 78,
   "id": "cf357363",
   "metadata": {},
   "outputs": [
    {
     "name": "stdout",
     "output_type": "stream",
     "text": [
      "DecisionTreeRegressor() 0.7961669536526234\n",
      "DecisionTreeRegressor() 0.7957039380177101\n",
      "DecisionTreeRegressor() 0.8200252618394204\n",
      "DecisionTreeRegressor() 0.8221751006631483\n",
      "DecisionTreeRegressor() 0.8171382016528614\n",
      "DecisionTreeRegressor() 0.8159273976953505\n",
      "DecisionTreeRegressor() 0.8360975275781157\n",
      "DecisionTreeRegressor() 0.8347744775967549\n"
     ]
    }
   ],
   "source": [
    "for i in range(2,10):\n",
    "    cv=cross_val_score(dt,x,y,cv=i)\n",
    "    print(dt,cv.mean())\n"
   ]
  },
  {
   "cell_type": "code",
   "execution_count": 79,
   "id": "e0b5e7e8",
   "metadata": {},
   "outputs": [
    {
     "data": {
      "text/plain": [
       "array([ 2227.,  8529., 12898., ..., 12284.,  7870., 13941.])"
      ]
     },
     "execution_count": 79,
     "metadata": {},
     "output_type": "execute_result"
    }
   ],
   "source": [
    "#lets plot and visualize\n",
    "y_pred=dt.predict(x_test)\n",
    "y_pred"
   ]
  },
  {
   "cell_type": "code",
   "execution_count": 80,
   "id": "75855368",
   "metadata": {},
   "outputs": [
    {
     "data": {
      "image/png": "[encoded data removed]",
      "text/plain": [
       "<Figure size 432x288 with 1 Axes>"
      ]
     },
     "metadata": {
      "needs_background": "light"
     },
     "output_type": "display_data"
    }
   ],
   "source": [
    "plt.scatter(y_test,y_pred)\n",
    "plt.xlabel('actual_price')\n",
    "plt.ylabel('predicted_price')\n",
    "plt.title('actual Vs model prediction')\n",
    "plt.show()"
   ]
  },
  {
   "cell_type": "markdown",
   "id": "3a8c28b6",
   "metadata": {},
   "source": [
    "# model saving"
   ]
  },
  {
   "cell_type": "code",
   "execution_count": 81,
   "id": "27c9715e",
   "metadata": {},
   "outputs": [],
   "source": [
    "import joblib"
   ]
  },
  {
   "cell_type": "code",
   "execution_count": 82,
   "id": "c9dbc6d6",
   "metadata": {},
   "outputs": [
    {
     "data": {
      "text/plain": [
       "['flight_price_prediction']"
      ]
     },
     "execution_count": 82,
     "metadata": {},
     "output_type": "execute_result"
    }
   ],
   "source": [
    "joblib.dump(dt,'flight_price_prediction')"
   ]
  },
  {
   "cell_type": "markdown",
   "id": "9350953a",
   "metadata": {},
   "source": [
    "# conclusion"
   ]
  },
  {
   "cell_type": "code",
   "execution_count": 83,
   "id": "326f45ff",
   "metadata": {},
   "outputs": [
    {
     "data": {
      "text/plain": [
       "0.8967433411438777"
      ]
     },
     "execution_count": 83,
     "metadata": {},
     "output_type": "execute_result"
    }
   ],
   "source": [
    "Model=joblib.load('flight_price_prediction')\n",
    "result=Model.predict(x_test)\n",
    "r2_score(y_test,result)"
   ]
  },
  {
   "cell_type": "markdown",
   "id": "3204a1bb",
   "metadata": {},
   "source": [
    "lets we have test data is given will test the model on it"
   ]
  },
  {
   "cell_type": "code",
   "execution_count": 84,
   "id": "ad372653",
   "metadata": {},
   "outputs": [
    {
     "data": {
      "text/html": [
       "<div>\n",
       "<style scoped>\n",
       "    .dataframe tbody tr th:only-of-type {\n",
       "        vertical-align: middle;\n",
       "    }\n",
       "\n",
       "    .dataframe tbody tr th {\n",
       "        vertical-align: top;\n",
       "    }\n",
       "\n",
       "    .dataframe thead th {\n",
       "        text-align: right;\n",
       "    }\n",
       "</style>\n",
       "<table border=\"1\" class=\"dataframe\">\n",
       "  <thead>\n",
       "    <tr style=\"text-align: right;\">\n",
       "      <th></th>\n",
       "      <th>Airline</th>\n",
       "      <th>Date_of_Journey</th>\n",
       "      <th>Source</th>\n",
       "      <th>Destination</th>\n",
       "      <th>Route</th>\n",
       "      <th>Dep_Time</th>\n",
       "      <th>Arrival_Time</th>\n",
       "      <th>Duration</th>\n",
       "      <th>Total_Stops</th>\n",
       "      <th>Additional_Info</th>\n",
       "    </tr>\n",
       "  </thead>\n",
       "  <tbody>\n",
       "    <tr>\n",
       "      <th>0</th>\n",
       "      <td>Jet Airways</td>\n",
       "      <td>6/06/2019</td>\n",
       "      <td>Delhi</td>\n",
       "      <td>Cochin</td>\n",
       "      <td>DEL → BOM → COK</td>\n",
       "      <td>17:30</td>\n",
       "      <td>04:25 07 Jun</td>\n",
       "      <td>10h 55m</td>\n",
       "      <td>1 stop</td>\n",
       "      <td>No info</td>\n",
       "    </tr>\n",
       "    <tr>\n",
       "      <th>1</th>\n",
       "      <td>IndiGo</td>\n",
       "      <td>12/05/2019</td>\n",
       "      <td>Kolkata</td>\n",
       "      <td>Banglore</td>\n",
       "      <td>CCU → MAA → BLR</td>\n",
       "      <td>06:20</td>\n",
       "      <td>10:20</td>\n",
       "      <td>4h</td>\n",
       "      <td>1 stop</td>\n",
       "      <td>No info</td>\n",
       "    </tr>\n",
       "    <tr>\n",
       "      <th>2</th>\n",
       "      <td>Jet Airways</td>\n",
       "      <td>21/05/2019</td>\n",
       "      <td>Delhi</td>\n",
       "      <td>Cochin</td>\n",
       "      <td>DEL → BOM → COK</td>\n",
       "      <td>19:15</td>\n",
       "      <td>19:00 22 May</td>\n",
       "      <td>23h 45m</td>\n",
       "      <td>1 stop</td>\n",
       "      <td>In-flight meal not included</td>\n",
       "    </tr>\n",
       "    <tr>\n",
       "      <th>3</th>\n",
       "      <td>Multiple carriers</td>\n",
       "      <td>21/05/2019</td>\n",
       "      <td>Delhi</td>\n",
       "      <td>Cochin</td>\n",
       "      <td>DEL → BOM → COK</td>\n",
       "      <td>08:00</td>\n",
       "      <td>21:00</td>\n",
       "      <td>13h</td>\n",
       "      <td>1 stop</td>\n",
       "      <td>No info</td>\n",
       "    </tr>\n",
       "    <tr>\n",
       "      <th>4</th>\n",
       "      <td>Air Asia</td>\n",
       "      <td>24/06/2019</td>\n",
       "      <td>Banglore</td>\n",
       "      <td>Delhi</td>\n",
       "      <td>BLR → DEL</td>\n",
       "      <td>23:55</td>\n",
       "      <td>02:45 25 Jun</td>\n",
       "      <td>2h 50m</td>\n",
       "      <td>non-stop</td>\n",
       "      <td>No info</td>\n",
       "    </tr>\n",
       "  </tbody>\n",
       "</table>\n",
       "</div>"
      ],
      "text/plain": [
       "             Airline Date_of_Journey    Source Destination            Route  \\\n",
       "0        Jet Airways       6/06/2019     Delhi      Cochin  DEL → BOM → COK   \n",
       "1             IndiGo      12/05/2019   Kolkata    Banglore  CCU → MAA → BLR   \n",
       "2        Jet Airways      21/05/2019     Delhi      Cochin  DEL → BOM → COK   \n",
       "3  Multiple carriers      21/05/2019     Delhi      Cochin  DEL → BOM → COK   \n",
       "4           Air Asia      24/06/2019  Banglore       Delhi        BLR → DEL   \n",
       "\n",
       "  Dep_Time  Arrival_Time Duration Total_Stops              Additional_Info  \n",
       "0    17:30  04:25 07 Jun  10h 55m      1 stop                      No info  \n",
       "1    06:20         10:20       4h      1 stop                      No info  \n",
       "2    19:15  19:00 22 May  23h 45m      1 stop  In-flight meal not included  \n",
       "3    08:00         21:00      13h      1 stop                      No info  \n",
       "4    23:55  02:45 25 Jun   2h 50m    non-stop                      No info  "
      ]
     },
     "execution_count": 84,
     "metadata": {},
     "output_type": "execute_result"
    }
   ],
   "source": [
    "testdata=pd.read_excel(\"C:\\\\Users\\\\SAI BABA\\\\Desktop\\\\Test_set.xlsx\")\n",
    "testdata.head()"
   ]
  },
  {
   "cell_type": "code",
   "execution_count": 85,
   "id": "5286cf47",
   "metadata": {},
   "outputs": [
    {
     "name": "stdout",
     "output_type": "stream",
     "text": [
      "<class 'pandas.core.frame.DataFrame'>\n",
      "RangeIndex: 2671 entries, 0 to 2670\n",
      "Data columns (total 10 columns):\n",
      " #   Column           Non-Null Count  Dtype \n",
      "---  ------           --------------  ----- \n",
      " 0   Airline          2671 non-null   object\n",
      " 1   Date_of_Journey  2671 non-null   object\n",
      " 2   Source           2671 non-null   object\n",
      " 3   Destination      2671 non-null   object\n",
      " 4   Route            2671 non-null   object\n",
      " 5   Dep_Time         2671 non-null   object\n",
      " 6   Arrival_Time     2671 non-null   object\n",
      " 7   Duration         2671 non-null   object\n",
      " 8   Total_Stops      2671 non-null   object\n",
      " 9   Additional_Info  2671 non-null   object\n",
      "dtypes: object(10)\n",
      "memory usage: 208.8+ KB\n"
     ]
    }
   ],
   "source": [
    "testdata.info()"
   ]
  },
  {
   "cell_type": "code",
   "execution_count": 86,
   "id": "a49af10d",
   "metadata": {},
   "outputs": [
    {
     "data": {
      "text/plain": [
       "(2671, 10)"
      ]
     },
     "execution_count": 86,
     "metadata": {},
     "output_type": "execute_result"
    }
   ],
   "source": [
    "testdata.shape"
   ]
  },
  {
   "cell_type": "code",
   "execution_count": 87,
   "id": "0ac729af",
   "metadata": {},
   "outputs": [
    {
     "data": {
      "text/html": [
       "<div>\n",
       "<style scoped>\n",
       "    .dataframe tbody tr th:only-of-type {\n",
       "        vertical-align: middle;\n",
       "    }\n",
       "\n",
       "    .dataframe tbody tr th {\n",
       "        vertical-align: top;\n",
       "    }\n",
       "\n",
       "    .dataframe thead th {\n",
       "        text-align: right;\n",
       "    }\n",
       "</style>\n",
       "<table border=\"1\" class=\"dataframe\">\n",
       "  <thead>\n",
       "    <tr style=\"text-align: right;\">\n",
       "      <th></th>\n",
       "      <th>Airline</th>\n",
       "      <th>Date_of_Journey</th>\n",
       "      <th>Source</th>\n",
       "      <th>Destination</th>\n",
       "      <th>Route</th>\n",
       "      <th>Dep_Time</th>\n",
       "      <th>Arrival_Time</th>\n",
       "      <th>Duration</th>\n",
       "      <th>Total_Stops</th>\n",
       "      <th>Additional_Info</th>\n",
       "    </tr>\n",
       "  </thead>\n",
       "  <tbody>\n",
       "    <tr>\n",
       "      <th>count</th>\n",
       "      <td>2671</td>\n",
       "      <td>2671</td>\n",
       "      <td>2671</td>\n",
       "      <td>2671</td>\n",
       "      <td>2671</td>\n",
       "      <td>2671</td>\n",
       "      <td>2671</td>\n",
       "      <td>2671</td>\n",
       "      <td>2671</td>\n",
       "      <td>2671</td>\n",
       "    </tr>\n",
       "    <tr>\n",
       "      <th>unique</th>\n",
       "      <td>11</td>\n",
       "      <td>44</td>\n",
       "      <td>5</td>\n",
       "      <td>6</td>\n",
       "      <td>100</td>\n",
       "      <td>199</td>\n",
       "      <td>704</td>\n",
       "      <td>320</td>\n",
       "      <td>5</td>\n",
       "      <td>6</td>\n",
       "    </tr>\n",
       "    <tr>\n",
       "      <th>top</th>\n",
       "      <td>Jet Airways</td>\n",
       "      <td>9/05/2019</td>\n",
       "      <td>Delhi</td>\n",
       "      <td>Cochin</td>\n",
       "      <td>DEL → BOM → COK</td>\n",
       "      <td>10:00</td>\n",
       "      <td>19:00</td>\n",
       "      <td>2h 50m</td>\n",
       "      <td>1 stop</td>\n",
       "      <td>No info</td>\n",
       "    </tr>\n",
       "    <tr>\n",
       "      <th>freq</th>\n",
       "      <td>897</td>\n",
       "      <td>144</td>\n",
       "      <td>1145</td>\n",
       "      <td>1145</td>\n",
       "      <td>624</td>\n",
       "      <td>62</td>\n",
       "      <td>113</td>\n",
       "      <td>122</td>\n",
       "      <td>1431</td>\n",
       "      <td>2148</td>\n",
       "    </tr>\n",
       "  </tbody>\n",
       "</table>\n",
       "</div>"
      ],
      "text/plain": [
       "            Airline Date_of_Journey Source Destination            Route  \\\n",
       "count          2671            2671   2671        2671             2671   \n",
       "unique           11              44      5           6              100   \n",
       "top     Jet Airways       9/05/2019  Delhi      Cochin  DEL → BOM → COK   \n",
       "freq            897             144   1145        1145              624   \n",
       "\n",
       "       Dep_Time Arrival_Time Duration Total_Stops Additional_Info  \n",
       "count      2671         2671     2671        2671            2671  \n",
       "unique      199          704      320           5               6  \n",
       "top       10:00        19:00   2h 50m      1 stop         No info  \n",
       "freq         62          113      122        1431            2148  "
      ]
     },
     "execution_count": 87,
     "metadata": {},
     "output_type": "execute_result"
    }
   ],
   "source": [
    "testdata.describe()"
   ]
  },
  {
   "cell_type": "code",
   "execution_count": 88,
   "id": "9aae5c9b",
   "metadata": {},
   "outputs": [
    {
     "data": {
      "text/plain": [
       "Airline            0\n",
       "Date_of_Journey    0\n",
       "Source             0\n",
       "Destination        0\n",
       "Route              0\n",
       "Dep_Time           0\n",
       "Arrival_Time       0\n",
       "Duration           0\n",
       "Total_Stops        0\n",
       "Additional_Info    0\n",
       "dtype: int64"
      ]
     },
     "execution_count": 88,
     "metadata": {},
     "output_type": "execute_result"
    }
   ],
   "source": [
    "testdata.isnull().sum()"
   ]
  },
  {
   "cell_type": "markdown",
   "id": "d5a8add9",
   "metadata": {},
   "source": [
    "# Making dataframe for categorical data"
   ]
  },
  {
   "cell_type": "code",
   "execution_count": 89,
   "id": "c8cee188",
   "metadata": {},
   "outputs": [],
   "source": [
    "testdata_visualization_categorical=testdata[['Airline','Source','Destination','Additional_Info']].copy()"
   ]
  },
  {
   "cell_type": "markdown",
   "id": "f9e89756",
   "metadata": {},
   "source": [
    "We now split the Date column to extract the ‘Date’, ‘Month’ and ‘Year’ values, and store them in new columns in our dataframe."
   ]
  },
  {
   "cell_type": "code",
   "execution_count": 90,
   "id": "2f743421",
   "metadata": {},
   "outputs": [],
   "source": [
    "testdata.Date_of_Journey=testdata.Date_of_Journey.str.split('/')"
   ]
  },
  {
   "cell_type": "code",
   "execution_count": 91,
   "id": "c042b42b",
   "metadata": {},
   "outputs": [],
   "source": [
    "testdata['Date']=testdata.Date_of_Journey.str[0]\n",
    "testdata['Month']=testdata.Date_of_Journey.str[1]\n",
    "testdata['Year']=testdata.Date_of_Journey.str[2]"
   ]
  },
  {
   "cell_type": "code",
   "execution_count": 92,
   "id": "6207757d",
   "metadata": {},
   "outputs": [],
   "source": [
    "testdata.Route=testdata.Route.str.split('→')"
   ]
  },
  {
   "cell_type": "code",
   "execution_count": 93,
   "id": "1a7dbaaa",
   "metadata": {},
   "outputs": [],
   "source": [
    "testdata['City1']=testdata.Route.str[0]\n",
    "testdata['City2']=testdata.Route.str[1]\n",
    "testdata['City3']=testdata.Route.str[2]\n",
    "testdata['City4']=testdata.Route.str[3]\n",
    "testdata['City5']=testdata.Route.str[4]\n",
    "testdata['City6']=testdata.Route.str[5]"
   ]
  },
  {
   "cell_type": "code",
   "execution_count": 94,
   "id": "57f6931f",
   "metadata": {},
   "outputs": [],
   "source": [
    "testdata.Dep_Time=testdata.Dep_Time.str.split(':')"
   ]
  },
  {
   "cell_type": "code",
   "execution_count": 95,
   "id": "656a5169",
   "metadata": {},
   "outputs": [],
   "source": [
    "testdata['Dep_Time_Hour']=testdata.Dep_Time.str[0]\n",
    "testdata['Dep_Time_Min']=testdata.Dep_Time.str[1]"
   ]
  },
  {
   "cell_type": "code",
   "execution_count": 96,
   "id": "8baf76f0",
   "metadata": {},
   "outputs": [],
   "source": [
    "testdata.Arrival_Time=testdata.Arrival_Time.str.split(' ')"
   ]
  },
  {
   "cell_type": "code",
   "execution_count": 97,
   "id": "5a0e5a74",
   "metadata": {},
   "outputs": [],
   "source": [
    "testdata['Arrival_date']=testdata.Arrival_Time.str[1]\n",
    "testdata['Time_of_arrival']=testdata.Arrival_Time.str[0]\n",
    "testdata['Time_of_arrival']=testdata.Time_of_arrival.str.split(':')\n",
    "testdata['Arrival_Time_Hour']=testdata.Time_of_arrival.str[0]\n",
    "testdata['Arrival_Time_Min']=testdata.Time_of_arrival.str[1]"
   ]
  },
  {
   "cell_type": "code",
   "execution_count": 98,
   "id": "35a3c61b",
   "metadata": {},
   "outputs": [],
   "source": [
    "testdata['Arrival_Time_Hour']=testdata.Time_of_arrival.str[0]\n",
    "testdata['Arrival_Time_Min']=testdata.Time_of_arrival.str[1]"
   ]
  },
  {
   "cell_type": "code",
   "execution_count": 99,
   "id": "c264d77a",
   "metadata": {},
   "outputs": [],
   "source": [
    "testdata.Duration=testdata.Duration.str.split(' ')\n",
    "testdata['Travel_hours']=testdata.Duration.str[0]\n",
    "testdata['Travel_hours']=testdata['Travel_hours'].str.split('h')\n",
    "testdata['Travel_hours']=testdata['Travel_hours'].str[0]\n",
    "testdata.Travel_hours=testdata.Travel_hours"
   ]
  },
  {
   "cell_type": "code",
   "execution_count": 100,
   "id": "dca1b8e6",
   "metadata": {},
   "outputs": [],
   "source": [
    "testdata['Travel_mins']=testdata.Duration.str[1]"
   ]
  },
  {
   "cell_type": "code",
   "execution_count": 101,
   "id": "c7c964fc",
   "metadata": {},
   "outputs": [],
   "source": [
    "testdata.Travel_mins=testdata.Travel_mins.str.split('m')\n",
    "testdata.Travel_mins=testdata.Travel_mins.str[0]\n"
   ]
  },
  {
   "cell_type": "code",
   "execution_count": 102,
   "id": "c994be59",
   "metadata": {},
   "outputs": [],
   "source": [
    "testdata.Total_Stops.replace('non-stop','0',inplace=True)\n",
    "testdata.Total_Stops=testdata.Total_Stops.str.split(' ')\n",
    "testdata.Total_Stops=testdata.Total_Stops.str[0]"
   ]
  },
  {
   "cell_type": "code",
   "execution_count": 103,
   "id": "c101fb61",
   "metadata": {},
   "outputs": [],
   "source": [
    "testdata.Additional_Info.replace('No Info','No info',inplace=True)"
   ]
  },
  {
   "cell_type": "code",
   "execution_count": 104,
   "id": "17d1bb25",
   "metadata": {},
   "outputs": [
    {
     "data": {
      "text/plain": [
       "Airline                 0\n",
       "Date_of_Journey         0\n",
       "Source                  0\n",
       "Destination             0\n",
       "Route                   0\n",
       "Dep_Time                0\n",
       "Arrival_Time            0\n",
       "Duration                0\n",
       "Total_Stops             0\n",
       "Additional_Info         0\n",
       "Date                    0\n",
       "Month                   0\n",
       "Year                    0\n",
       "City1                   0\n",
       "City2                   0\n",
       "City3                 849\n",
       "City4                2280\n",
       "City5                2659\n",
       "City6                2670\n",
       "Dep_Time_Hour           0\n",
       "Dep_Time_Min            0\n",
       "Arrival_date         1605\n",
       "Time_of_arrival         0\n",
       "Arrival_Time_Hour       0\n",
       "Arrival_Time_Min        0\n",
       "Travel_hours            0\n",
       "Travel_mins           254\n",
       "dtype: int64"
      ]
     },
     "execution_count": 104,
     "metadata": {},
     "output_type": "execute_result"
    }
   ],
   "source": [
    "testdata.isnull().sum()"
   ]
  },
  {
   "cell_type": "code",
   "execution_count": 105,
   "id": "90b5720c",
   "metadata": {},
   "outputs": [],
   "source": [
    "testdata.drop(['City4','City5','City6'],axis=1,inplace=True)"
   ]
  },
  {
   "cell_type": "code",
   "execution_count": 106,
   "id": "63432c56",
   "metadata": {},
   "outputs": [],
   "source": [
    "testdata['Arrival_date'].fillna(testdata['Date'],inplace=True)\n",
    "testdata['Travel_mins'].fillna('m',inplace=True)\n",
    "testdata['City3'].fillna('COK',inplace=True)"
   ]
  },
  {
   "cell_type": "code",
   "execution_count": 107,
   "id": "cfe042bf",
   "metadata": {},
   "outputs": [],
   "source": [
    "#changing numerical columns from object to int\n",
    "testdata.Total_Stops=testdata.Total_Stops.astype('int64')\n",
    "testdata.Date=testdata.Date.astype('int64')\n",
    "testdata.Month=testdata.Month.astype('int64')\n",
    "testdata.Year=testdata.Year.astype('int64')\n",
    "testdata.Dep_Time_Hour=testdata.Dep_Time_Hour.astype('int64')\n",
    "testdata.Dep_Time_Min=testdata.Dep_Time_Min.astype('int64')\n",
    "#testdata.Arrival_date=testdata.Arrival_date.astype('int64')\n",
    "testdata.Arrival_Time_Hour=testdata.Arrival_Time_Hour.astype('int64')\n",
    "testdata.Arrival_Time_Min=testdata.Arrival_Time_Min.astype('int64')\n",
    "#testdata.Travel_mins=testdata.Travel_mins.astype('int64')"
   ]
  },
  {
   "cell_type": "code",
   "execution_count": 108,
   "id": "3ae713a5",
   "metadata": {},
   "outputs": [
    {
     "data": {
      "text/html": [
       "<div>\n",
       "<style scoped>\n",
       "    .dataframe tbody tr th:only-of-type {\n",
       "        vertical-align: middle;\n",
       "    }\n",
       "\n",
       "    .dataframe tbody tr th {\n",
       "        vertical-align: top;\n",
       "    }\n",
       "\n",
       "    .dataframe thead th {\n",
       "        text-align: right;\n",
       "    }\n",
       "</style>\n",
       "<table border=\"1\" class=\"dataframe\">\n",
       "  <thead>\n",
       "    <tr style=\"text-align: right;\">\n",
       "      <th></th>\n",
       "      <th>Airline</th>\n",
       "      <th>Date_of_Journey</th>\n",
       "      <th>Source</th>\n",
       "      <th>Destination</th>\n",
       "      <th>Route</th>\n",
       "      <th>Dep_Time</th>\n",
       "      <th>Arrival_Time</th>\n",
       "      <th>Duration</th>\n",
       "      <th>Total_Stops</th>\n",
       "      <th>Additional_Info</th>\n",
       "      <th>...</th>\n",
       "      <th>City2</th>\n",
       "      <th>City3</th>\n",
       "      <th>Dep_Time_Hour</th>\n",
       "      <th>Dep_Time_Min</th>\n",
       "      <th>Arrival_date</th>\n",
       "      <th>Time_of_arrival</th>\n",
       "      <th>Arrival_Time_Hour</th>\n",
       "      <th>Arrival_Time_Min</th>\n",
       "      <th>Travel_hours</th>\n",
       "      <th>Travel_mins</th>\n",
       "    </tr>\n",
       "  </thead>\n",
       "  <tbody>\n",
       "    <tr>\n",
       "      <th>2660</th>\n",
       "      <td>Air India</td>\n",
       "      <td>[12, 03, 2019]</td>\n",
       "      <td>Mumbai</td>\n",
       "      <td>Hyderabad</td>\n",
       "      <td>[BOM ,  GOI ,  PNQ ,  HYD]</td>\n",
       "      <td>[16, 50]</td>\n",
       "      <td>[16:55]</td>\n",
       "      <td>[5m]</td>\n",
       "      <td>2</td>\n",
       "      <td>No info</td>\n",
       "      <td>...</td>\n",
       "      <td>GOI</td>\n",
       "      <td>PNQ</td>\n",
       "      <td>16</td>\n",
       "      <td>50</td>\n",
       "      <td>12</td>\n",
       "      <td>[16, 55]</td>\n",
       "      <td>16</td>\n",
       "      <td>55</td>\n",
       "      <td>5m</td>\n",
       "      <td>m</td>\n",
       "    </tr>\n",
       "  </tbody>\n",
       "</table>\n",
       "<p>1 rows × 24 columns</p>\n",
       "</div>"
      ],
      "text/plain": [
       "        Airline Date_of_Journey  Source Destination  \\\n",
       "2660  Air India  [12, 03, 2019]  Mumbai   Hyderabad   \n",
       "\n",
       "                           Route  Dep_Time Arrival_Time Duration  Total_Stops  \\\n",
       "2660  [BOM ,  GOI ,  PNQ ,  HYD]  [16, 50]      [16:55]     [5m]            2   \n",
       "\n",
       "     Additional_Info  ...  City2  City3  Dep_Time_Hour Dep_Time_Min  \\\n",
       "2660         No info  ...   GOI    PNQ              16           50   \n",
       "\n",
       "     Arrival_date Time_of_arrival  Arrival_Time_Hour  Arrival_Time_Min  \\\n",
       "2660           12        [16, 55]                 16                55   \n",
       "\n",
       "     Travel_hours Travel_mins  \n",
       "2660           5m           m  \n",
       "\n",
       "[1 rows x 24 columns]"
      ]
     },
     "execution_count": 108,
     "metadata": {},
     "output_type": "execute_result"
    }
   ],
   "source": [
    "testdata[testdata['Travel_hours']=='5m']"
   ]
  },
  {
   "cell_type": "code",
   "execution_count": 109,
   "id": "5c63a922",
   "metadata": {},
   "outputs": [],
   "source": [
    "testdata.drop(index=2660,inplace=True,axis=0)\n",
    "testdata.Travel_hours=testdata.Travel_hours.astype('int64')"
   ]
  },
  {
   "cell_type": "code",
   "execution_count": 110,
   "id": "456dc395",
   "metadata": {},
   "outputs": [],
   "source": [
    "#list of columns\n",
    "categorical=['Airline','Source','Destination','Additional_Info','City1','City2','City3']\n",
    "numerical=['Total_Stops','Date','Month','Year','Dep_Time_Hour','Dep_Time_Min','Arrival_date','Arrival_Time_Hour','Arrival_Time_Min','Travel_hours','Travel_mins'],"
   ]
  },
  {
   "cell_type": "code",
   "execution_count": 111,
   "id": "229ce06c",
   "metadata": {},
   "outputs": [
    {
     "name": "stdout",
     "output_type": "stream",
     "text": [
      "<class 'pandas.core.frame.DataFrame'>\n",
      "Int64Index: 2670 entries, 0 to 2670\n",
      "Data columns (total 24 columns):\n",
      " #   Column             Non-Null Count  Dtype \n",
      "---  ------             --------------  ----- \n",
      " 0   Airline            2670 non-null   object\n",
      " 1   Date_of_Journey    2670 non-null   object\n",
      " 2   Source             2670 non-null   object\n",
      " 3   Destination        2670 non-null   object\n",
      " 4   Route              2670 non-null   object\n",
      " 5   Dep_Time           2670 non-null   object\n",
      " 6   Arrival_Time       2670 non-null   object\n",
      " 7   Duration           2670 non-null   object\n",
      " 8   Total_Stops        2670 non-null   int64 \n",
      " 9   Additional_Info    2670 non-null   object\n",
      " 10  Date               2670 non-null   int64 \n",
      " 11  Month              2670 non-null   int64 \n",
      " 12  Year               2670 non-null   int64 \n",
      " 13  City1              2670 non-null   object\n",
      " 14  City2              2670 non-null   object\n",
      " 15  City3              2670 non-null   object\n",
      " 16  Dep_Time_Hour      2670 non-null   int64 \n",
      " 17  Dep_Time_Min       2670 non-null   int64 \n",
      " 18  Arrival_date       2670 non-null   object\n",
      " 19  Time_of_arrival    2670 non-null   object\n",
      " 20  Arrival_Time_Hour  2670 non-null   int64 \n",
      " 21  Arrival_Time_Min   2670 non-null   int64 \n",
      " 22  Travel_hours       2670 non-null   int64 \n",
      " 23  Travel_mins        2670 non-null   object\n",
      "dtypes: int64(9), object(15)\n",
      "memory usage: 521.5+ KB\n"
     ]
    }
   ],
   "source": [
    "testdata.info()"
   ]
  },
  {
   "cell_type": "code",
   "execution_count": 112,
   "id": "e46f30c5",
   "metadata": {},
   "outputs": [],
   "source": [
    "testdata.drop(['Date_of_Journey','Dep_Time','Arrival_Time','Duration','Time_of_arrival'],axis=1,inplace=True)"
   ]
  },
  {
   "cell_type": "code",
   "execution_count": 113,
   "id": "d61c9442",
   "metadata": {},
   "outputs": [
    {
     "data": {
      "text/plain": [
       "(2670, 19)"
      ]
     },
     "execution_count": 113,
     "metadata": {},
     "output_type": "execute_result"
    }
   ],
   "source": [
    "testdata.shape"
   ]
  },
  {
   "cell_type": "code",
   "execution_count": 114,
   "id": "b741d219",
   "metadata": {},
   "outputs": [],
   "source": [
    "testdata.drop(['Year'],axis=1,inplace=True)"
   ]
  },
  {
   "cell_type": "code",
   "execution_count": 115,
   "id": "243bc443",
   "metadata": {},
   "outputs": [
    {
     "data": {
      "text/plain": [
       "(2670, 18)"
      ]
     },
     "execution_count": 115,
     "metadata": {},
     "output_type": "execute_result"
    }
   ],
   "source": [
    "testdata.shape"
   ]
  },
  {
   "cell_type": "code",
   "execution_count": 116,
   "id": "05cc1ca8",
   "metadata": {
    "scrolled": true
   },
   "outputs": [
    {
     "name": "stdout",
     "output_type": "stream",
     "text": [
      "<class 'pandas.core.frame.DataFrame'>\n",
      "Int64Index: 2670 entries, 0 to 2670\n",
      "Data columns (total 18 columns):\n",
      " #   Column             Non-Null Count  Dtype \n",
      "---  ------             --------------  ----- \n",
      " 0   Airline            2670 non-null   object\n",
      " 1   Source             2670 non-null   object\n",
      " 2   Destination        2670 non-null   object\n",
      " 3   Route              2670 non-null   object\n",
      " 4   Total_Stops        2670 non-null   int64 \n",
      " 5   Additional_Info    2670 non-null   object\n",
      " 6   Date               2670 non-null   int64 \n",
      " 7   Month              2670 non-null   int64 \n",
      " 8   City1              2670 non-null   object\n",
      " 9   City2              2670 non-null   object\n",
      " 10  City3              2670 non-null   object\n",
      " 11  Dep_Time_Hour      2670 non-null   int64 \n",
      " 12  Dep_Time_Min       2670 non-null   int64 \n",
      " 13  Arrival_date       2670 non-null   object\n",
      " 14  Arrival_Time_Hour  2670 non-null   int64 \n",
      " 15  Arrival_Time_Min   2670 non-null   int64 \n",
      " 16  Travel_hours       2670 non-null   int64 \n",
      " 17  Travel_mins        2670 non-null   object\n",
      "dtypes: int64(8), object(10)\n",
      "memory usage: 396.3+ KB\n"
     ]
    }
   ],
   "source": [
    "testdata.info()"
   ]
  },
  {
   "cell_type": "code",
   "execution_count": 117,
   "id": "39fe583d",
   "metadata": {},
   "outputs": [],
   "source": [
    "testdata.drop(['Route'],axis=1,inplace=True)"
   ]
  },
  {
   "cell_type": "code",
   "execution_count": 118,
   "id": "5259c57a",
   "metadata": {},
   "outputs": [
    {
     "name": "stdout",
     "output_type": "stream",
     "text": [
      "<class 'pandas.core.frame.DataFrame'>\n",
      "Int64Index: 2670 entries, 0 to 2670\n",
      "Data columns (total 17 columns):\n",
      " #   Column             Non-Null Count  Dtype \n",
      "---  ------             --------------  ----- \n",
      " 0   Airline            2670 non-null   object\n",
      " 1   Source             2670 non-null   object\n",
      " 2   Destination        2670 non-null   object\n",
      " 3   Total_Stops        2670 non-null   int64 \n",
      " 4   Additional_Info    2670 non-null   object\n",
      " 5   Date               2670 non-null   int64 \n",
      " 6   Month              2670 non-null   int64 \n",
      " 7   City1              2670 non-null   object\n",
      " 8   City2              2670 non-null   object\n",
      " 9   City3              2670 non-null   object\n",
      " 10  Dep_Time_Hour      2670 non-null   int64 \n",
      " 11  Dep_Time_Min       2670 non-null   int64 \n",
      " 12  Arrival_date       2670 non-null   object\n",
      " 13  Arrival_Time_Hour  2670 non-null   int64 \n",
      " 14  Arrival_Time_Min   2670 non-null   int64 \n",
      " 15  Travel_hours       2670 non-null   int64 \n",
      " 16  Travel_mins        2670 non-null   object\n",
      "dtypes: int64(8), object(9)\n",
      "memory usage: 375.5+ KB\n"
     ]
    }
   ],
   "source": [
    "testdata.info()"
   ]
  },
  {
   "cell_type": "markdown",
   "id": "d0e037d9",
   "metadata": {},
   "source": [
    "# data encoding"
   ]
  },
  {
   "cell_type": "code",
   "execution_count": 119,
   "id": "77440a28",
   "metadata": {},
   "outputs": [],
   "source": [
    "from sklearn.preprocessing import LabelEncoder"
   ]
  },
  {
   "cell_type": "code",
   "execution_count": 120,
   "id": "8461486e",
   "metadata": {},
   "outputs": [],
   "source": [
    "le=LabelEncoder()\n",
    "label=le.fit_transform(testdata[\"Airline\"])\n",
    "label\n",
    "testdata=testdata.drop(\"Airline\",axis='columns')\n",
    "testdata[\"Airline\"]=label\n"
   ]
  },
  {
   "cell_type": "code",
   "execution_count": 121,
   "id": "19198947",
   "metadata": {},
   "outputs": [],
   "source": [
    "le=LabelEncoder()\n",
    "label=le.fit_transform(testdata[\"City1\"])\n",
    "label\n",
    "testdata=testdata.drop(\"City1\",axis='columns')\n",
    "testdata[\"City1\"]=label"
   ]
  },
  {
   "cell_type": "code",
   "execution_count": 122,
   "id": "7581a1c5",
   "metadata": {},
   "outputs": [],
   "source": [
    "le=LabelEncoder()\n",
    "label=le.fit_transform(testdata[\"City2\"])\n",
    "label\n",
    "testdata=testdata.drop(\"City2\",axis='columns')\n",
    "testdata[\"City2\"]=label"
   ]
  },
  {
   "cell_type": "code",
   "execution_count": 123,
   "id": "11dea5f6",
   "metadata": {},
   "outputs": [
    {
     "data": {
      "text/plain": [
       "0        7\n",
       "1       29\n",
       "2        7\n",
       "3        7\n",
       "4       13\n",
       "        ..\n",
       "2666    14\n",
       "2667     5\n",
       "2668     7\n",
       "2669     7\n",
       "2670     7\n",
       "Name: City2, Length: 2670, dtype: int32"
      ]
     },
     "execution_count": 123,
     "metadata": {},
     "output_type": "execute_result"
    }
   ],
   "source": [
    "testdata.City2"
   ]
  },
  {
   "cell_type": "code",
   "execution_count": 124,
   "id": "cc586e2a",
   "metadata": {
    "scrolled": true
   },
   "outputs": [],
   "source": [
    "le=LabelEncoder()\n",
    "label=le.fit_transform(testdata[\"City3\"])\n",
    "label\n",
    "testdata=testdata.drop(\"City3\",axis='columns')\n",
    "testdata[\"City3\"]=label"
   ]
  },
  {
   "cell_type": "code",
   "execution_count": 125,
   "id": "7d513a65",
   "metadata": {},
   "outputs": [],
   "source": [
    "le=LabelEncoder()\n",
    "label=le.fit_transform(testdata[\"Source\"])\n",
    "label\n",
    "testdata=testdata.drop(\"Source\",axis='columns')\n",
    "testdata[\"Source\"]=label"
   ]
  },
  {
   "cell_type": "code",
   "execution_count": 126,
   "id": "5c1af473",
   "metadata": {},
   "outputs": [],
   "source": [
    "le=LabelEncoder()\n",
    "label=le.fit_transform(testdata[\"Destination\"])\n",
    "label\n",
    "testdata=testdata.drop(\"Destination\",axis='columns')\n",
    "testdata[\"Destination\"]=label"
   ]
  },
  {
   "cell_type": "code",
   "execution_count": 127,
   "id": "8f3b988b",
   "metadata": {},
   "outputs": [],
   "source": [
    "le=LabelEncoder()\n",
    "label=le.fit_transform(testdata[\"Arrival_date\"])\n",
    "label\n",
    "testdata=testdata.drop(\"Arrival_date\",axis='columns')\n",
    "testdata[\"Arrival_date\"]=label"
   ]
  },
  {
   "cell_type": "code",
   "execution_count": 128,
   "id": "3b78a706",
   "metadata": {},
   "outputs": [],
   "source": [
    "le=LabelEncoder()\n",
    "label=le.fit_transform(testdata[\"Travel_mins\"])\n",
    "label\n",
    "testdata=testdata.drop(\"Travel_mins\",axis='columns')\n",
    "testdata[\"Travel_mins\"]=label"
   ]
  },
  {
   "cell_type": "code",
   "execution_count": 129,
   "id": "50199678",
   "metadata": {},
   "outputs": [
    {
     "data": {
      "text/html": [
       "<div>\n",
       "<style scoped>\n",
       "    .dataframe tbody tr th:only-of-type {\n",
       "        vertical-align: middle;\n",
       "    }\n",
       "\n",
       "    .dataframe tbody tr th {\n",
       "        vertical-align: top;\n",
       "    }\n",
       "\n",
       "    .dataframe thead th {\n",
       "        text-align: right;\n",
       "    }\n",
       "</style>\n",
       "<table border=\"1\" class=\"dataframe\">\n",
       "  <thead>\n",
       "    <tr style=\"text-align: right;\">\n",
       "      <th></th>\n",
       "      <th>Total_Stops</th>\n",
       "      <th>Date</th>\n",
       "      <th>Month</th>\n",
       "      <th>Dep_Time_Hour</th>\n",
       "      <th>Dep_Time_Min</th>\n",
       "      <th>Arrival_Time_Hour</th>\n",
       "      <th>Arrival_Time_Min</th>\n",
       "      <th>Travel_hours</th>\n",
       "      <th>Airline</th>\n",
       "      <th>City1</th>\n",
       "      <th>City2</th>\n",
       "      <th>City3</th>\n",
       "      <th>Source</th>\n",
       "      <th>Destination</th>\n",
       "      <th>Arrival_date</th>\n",
       "      <th>Travel_mins</th>\n",
       "      <th>Additional_Info</th>\n",
       "    </tr>\n",
       "  </thead>\n",
       "  <tbody>\n",
       "    <tr>\n",
       "      <th>0</th>\n",
       "      <td>1</td>\n",
       "      <td>6</td>\n",
       "      <td>6</td>\n",
       "      <td>17</td>\n",
       "      <td>30</td>\n",
       "      <td>4</td>\n",
       "      <td>25</td>\n",
       "      <td>10</td>\n",
       "      <td>4</td>\n",
       "      <td>3</td>\n",
       "      <td>7</td>\n",
       "      <td>5</td>\n",
       "      <td>2</td>\n",
       "      <td>1</td>\n",
       "      <td>6</td>\n",
       "      <td>10</td>\n",
       "      <td>5</td>\n",
       "    </tr>\n",
       "    <tr>\n",
       "      <th>1</th>\n",
       "      <td>1</td>\n",
       "      <td>12</td>\n",
       "      <td>5</td>\n",
       "      <td>6</td>\n",
       "      <td>20</td>\n",
       "      <td>10</td>\n",
       "      <td>20</td>\n",
       "      <td>4</td>\n",
       "      <td>3</td>\n",
       "      <td>2</td>\n",
       "      <td>29</td>\n",
       "      <td>3</td>\n",
       "      <td>3</td>\n",
       "      <td>0</td>\n",
       "      <td>12</td>\n",
       "      <td>11</td>\n",
       "      <td>5</td>\n",
       "    </tr>\n",
       "    <tr>\n",
       "      <th>2</th>\n",
       "      <td>1</td>\n",
       "      <td>21</td>\n",
       "      <td>5</td>\n",
       "      <td>19</td>\n",
       "      <td>15</td>\n",
       "      <td>19</td>\n",
       "      <td>0</td>\n",
       "      <td>23</td>\n",
       "      <td>4</td>\n",
       "      <td>3</td>\n",
       "      <td>7</td>\n",
       "      <td>5</td>\n",
       "      <td>2</td>\n",
       "      <td>1</td>\n",
       "      <td>20</td>\n",
       "      <td>7</td>\n",
       "      <td>3</td>\n",
       "    </tr>\n",
       "    <tr>\n",
       "      <th>3</th>\n",
       "      <td>1</td>\n",
       "      <td>21</td>\n",
       "      <td>5</td>\n",
       "      <td>8</td>\n",
       "      <td>0</td>\n",
       "      <td>21</td>\n",
       "      <td>0</td>\n",
       "      <td>13</td>\n",
       "      <td>6</td>\n",
       "      <td>3</td>\n",
       "      <td>7</td>\n",
       "      <td>5</td>\n",
       "      <td>2</td>\n",
       "      <td>1</td>\n",
       "      <td>19</td>\n",
       "      <td>11</td>\n",
       "      <td>5</td>\n",
       "    </tr>\n",
       "    <tr>\n",
       "      <th>4</th>\n",
       "      <td>0</td>\n",
       "      <td>24</td>\n",
       "      <td>6</td>\n",
       "      <td>23</td>\n",
       "      <td>55</td>\n",
       "      <td>2</td>\n",
       "      <td>45</td>\n",
       "      <td>2</td>\n",
       "      <td>0</td>\n",
       "      <td>0</td>\n",
       "      <td>13</td>\n",
       "      <td>26</td>\n",
       "      <td>0</td>\n",
       "      <td>2</td>\n",
       "      <td>23</td>\n",
       "      <td>9</td>\n",
       "      <td>5</td>\n",
       "    </tr>\n",
       "    <tr>\n",
       "      <th>...</th>\n",
       "      <td>...</td>\n",
       "      <td>...</td>\n",
       "      <td>...</td>\n",
       "      <td>...</td>\n",
       "      <td>...</td>\n",
       "      <td>...</td>\n",
       "      <td>...</td>\n",
       "      <td>...</td>\n",
       "      <td>...</td>\n",
       "      <td>...</td>\n",
       "      <td>...</td>\n",
       "      <td>...</td>\n",
       "      <td>...</td>\n",
       "      <td>...</td>\n",
       "      <td>...</td>\n",
       "      <td>...</td>\n",
       "      <td>...</td>\n",
       "    </tr>\n",
       "    <tr>\n",
       "      <th>2666</th>\n",
       "      <td>1</td>\n",
       "      <td>6</td>\n",
       "      <td>6</td>\n",
       "      <td>20</td>\n",
       "      <td>30</td>\n",
       "      <td>20</td>\n",
       "      <td>25</td>\n",
       "      <td>23</td>\n",
       "      <td>1</td>\n",
       "      <td>2</td>\n",
       "      <td>14</td>\n",
       "      <td>3</td>\n",
       "      <td>3</td>\n",
       "      <td>0</td>\n",
       "      <td>6</td>\n",
       "      <td>10</td>\n",
       "      <td>5</td>\n",
       "    </tr>\n",
       "    <tr>\n",
       "      <th>2667</th>\n",
       "      <td>0</td>\n",
       "      <td>27</td>\n",
       "      <td>3</td>\n",
       "      <td>14</td>\n",
       "      <td>20</td>\n",
       "      <td>16</td>\n",
       "      <td>55</td>\n",
       "      <td>2</td>\n",
       "      <td>3</td>\n",
       "      <td>2</td>\n",
       "      <td>5</td>\n",
       "      <td>26</td>\n",
       "      <td>3</td>\n",
       "      <td>0</td>\n",
       "      <td>24</td>\n",
       "      <td>5</td>\n",
       "      <td>5</td>\n",
       "    </tr>\n",
       "    <tr>\n",
       "      <th>2668</th>\n",
       "      <td>1</td>\n",
       "      <td>6</td>\n",
       "      <td>3</td>\n",
       "      <td>21</td>\n",
       "      <td>50</td>\n",
       "      <td>4</td>\n",
       "      <td>25</td>\n",
       "      <td>6</td>\n",
       "      <td>4</td>\n",
       "      <td>3</td>\n",
       "      <td>7</td>\n",
       "      <td>5</td>\n",
       "      <td>2</td>\n",
       "      <td>1</td>\n",
       "      <td>6</td>\n",
       "      <td>5</td>\n",
       "      <td>5</td>\n",
       "    </tr>\n",
       "    <tr>\n",
       "      <th>2669</th>\n",
       "      <td>1</td>\n",
       "      <td>6</td>\n",
       "      <td>3</td>\n",
       "      <td>4</td>\n",
       "      <td>0</td>\n",
       "      <td>19</td>\n",
       "      <td>15</td>\n",
       "      <td>15</td>\n",
       "      <td>1</td>\n",
       "      <td>3</td>\n",
       "      <td>7</td>\n",
       "      <td>5</td>\n",
       "      <td>2</td>\n",
       "      <td>1</td>\n",
       "      <td>28</td>\n",
       "      <td>1</td>\n",
       "      <td>5</td>\n",
       "    </tr>\n",
       "    <tr>\n",
       "      <th>2670</th>\n",
       "      <td>1</td>\n",
       "      <td>15</td>\n",
       "      <td>6</td>\n",
       "      <td>4</td>\n",
       "      <td>55</td>\n",
       "      <td>19</td>\n",
       "      <td>15</td>\n",
       "      <td>14</td>\n",
       "      <td>6</td>\n",
       "      <td>3</td>\n",
       "      <td>7</td>\n",
       "      <td>5</td>\n",
       "      <td>2</td>\n",
       "      <td>1</td>\n",
       "      <td>14</td>\n",
       "      <td>2</td>\n",
       "      <td>5</td>\n",
       "    </tr>\n",
       "  </tbody>\n",
       "</table>\n",
       "<p>2670 rows × 17 columns</p>\n",
       "</div>"
      ],
      "text/plain": [
       "      Total_Stops  Date  Month  Dep_Time_Hour  Dep_Time_Min  \\\n",
       "0               1     6      6             17            30   \n",
       "1               1    12      5              6            20   \n",
       "2               1    21      5             19            15   \n",
       "3               1    21      5              8             0   \n",
       "4               0    24      6             23            55   \n",
       "...           ...   ...    ...            ...           ...   \n",
       "2666            1     6      6             20            30   \n",
       "2667            0    27      3             14            20   \n",
       "2668            1     6      3             21            50   \n",
       "2669            1     6      3              4             0   \n",
       "2670            1    15      6              4            55   \n",
       "\n",
       "      Arrival_Time_Hour  Arrival_Time_Min  Travel_hours  Airline  City1  \\\n",
       "0                     4                25            10        4      3   \n",
       "1                    10                20             4        3      2   \n",
       "2                    19                 0            23        4      3   \n",
       "3                    21                 0            13        6      3   \n",
       "4                     2                45             2        0      0   \n",
       "...                 ...               ...           ...      ...    ...   \n",
       "2666                 20                25            23        1      2   \n",
       "2667                 16                55             2        3      2   \n",
       "2668                  4                25             6        4      3   \n",
       "2669                 19                15            15        1      3   \n",
       "2670                 19                15            14        6      3   \n",
       "\n",
       "      City2  City3  Source  Destination  Arrival_date  Travel_mins  \\\n",
       "0         7      5       2            1             6           10   \n",
       "1        29      3       3            0            12           11   \n",
       "2         7      5       2            1            20            7   \n",
       "3         7      5       2            1            19           11   \n",
       "4        13     26       0            2            23            9   \n",
       "...     ...    ...     ...          ...           ...          ...   \n",
       "2666     14      3       3            0             6           10   \n",
       "2667      5     26       3            0            24            5   \n",
       "2668      7      5       2            1             6            5   \n",
       "2669      7      5       2            1            28            1   \n",
       "2670      7      5       2            1            14            2   \n",
       "\n",
       "      Additional_Info  \n",
       "0                   5  \n",
       "1                   5  \n",
       "2                   3  \n",
       "3                   5  \n",
       "4                   5  \n",
       "...               ...  \n",
       "2666                5  \n",
       "2667                5  \n",
       "2668                5  \n",
       "2669                5  \n",
       "2670                5  \n",
       "\n",
       "[2670 rows x 17 columns]"
      ]
     },
     "execution_count": 129,
     "metadata": {},
     "output_type": "execute_result"
    }
   ],
   "source": [
    "le=LabelEncoder()\n",
    "label=le.fit_transform(testdata[\"Additional_Info\"])\n",
    "label\n",
    "testdata=testdata.drop(\"Additional_Info\",axis='columns')\n",
    "testdata[\"Additional_Info\"]=label\n",
    "testdata"
   ]
  },
  {
   "cell_type": "code",
   "execution_count": 130,
   "id": "80fab7e1",
   "metadata": {},
   "outputs": [
    {
     "data": {
      "text/plain": [
       "array([5583., 5583., 5583., ..., 5583., 8452., 7804.])"
      ]
     },
     "execution_count": 130,
     "metadata": {},
     "output_type": "execute_result"
    }
   ],
   "source": [
    "#load the saved model\n",
    "flight_price=joblib.load('flight_price_prediction')\n",
    "prices=flight_price.predict(testdata)\n",
    "prices"
   ]
  }
 ],
 "metadata": {
  "kernelspec": {
   "display_name": "Python 3",
   "language": "python",
   "name": "python3"
  },
  "language_info": {
   "codemirror_mode": {
    "name": "ipython",
    "version": 3
   },
   "file_extension": ".py",
   "mimetype": "text/x-python",
   "name": "python",
   "nbconvert_exporter": "python",
   "pygments_lexer": "ipython3",
   "version": "3.8.8"
  }
 },
 "nbformat": 4,
 "nbformat_minor": 5
}
